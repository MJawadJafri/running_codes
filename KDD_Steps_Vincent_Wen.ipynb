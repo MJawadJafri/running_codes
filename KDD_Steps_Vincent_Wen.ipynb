{
  "cells": [
    {
      "cell_type": "markdown",
      "metadata": {
        "id": "view-in-github",
        "colab_type": "text"
      },
      "source": [
        "<a href=\"https://colab.research.google.com/github/MJawadJafri/running_codes/blob/main/KDD_Steps_Vincent_Wen.ipynb\" target=\"_parent\"><img src=\"https://colab.research.google.com/assets/colab-badge.svg\" alt=\"Open In Colab\"/></a>"
      ]
    },
    {
      "cell_type": "markdown",
      "metadata": {
        "id": "JLQJ4IDw6DPs"
      },
      "source": [
        "# Data Exploration, Preparation and Projection  #########"
      ]
    },
    {
      "cell_type": "code",
      "source": [
        "!pip install pyspark"
      ],
      "metadata": {
        "colab": {
          "base_uri": "https://localhost:8080/"
        },
        "id": "h_o3ZNylt9Ju",
        "outputId": "fe7a5f57-500d-4a00-9ce7-fa86118388e9"
      },
      "execution_count": 4,
      "outputs": [
        {
          "output_type": "stream",
          "name": "stdout",
          "text": [
            "Looking in indexes: https://pypi.org/simple, https://us-python.pkg.dev/colab-wheels/public/simple/\n",
            "Requirement already satisfied: pyspark in /usr/local/lib/python3.10/dist-packages (3.4.0)\n",
            "Requirement already satisfied: py4j==0.10.9.7 in /usr/local/lib/python3.10/dist-packages (from pyspark) (0.10.9.7)\n"
          ]
        }
      ]
    },
    {
      "cell_type": "code",
      "execution_count": 75,
      "metadata": {
        "id": "CGHBYUwU6DPz"
      },
      "outputs": [],
      "source": [
        "# Section must be included at the beginning of each new notebook. Remember to change the app name. \n",
        "# If you're using VirtualBox, change the below to '/home/user/spark-2.1.1-bin-hadoop2.7'\n",
        "import pyspark\n",
        "from pyspark.sql import SparkSession\n",
        "from pyspark.sql.functions import *\n",
        "spark = SparkSession.builder.appName('basics').getOrCreate()\n",
        "import matplotlib.pyplot as plt\n",
        "import pandas as pd\n",
        "import seaborn as sns"
      ]
    },
    {
      "cell_type": "code",
      "execution_count": 6,
      "metadata": {
        "id": "rRWtI9H86DP3"
      },
      "outputs": [],
      "source": [
        "# Reading the Income Dataset for Further Analysis\n",
        "df = spark.read.csv('Income.csv',header=True,inferSchema=True)"
      ]
    },
    {
      "cell_type": "code",
      "execution_count": 7,
      "metadata": {
        "colab": {
          "base_uri": "https://localhost:8080/",
          "height": 757
        },
        "id": "ecBY7xZ86DP4",
        "outputId": "31f17161-d982-4d4a-d06c-34fc70af4bf1"
      },
      "outputs": [
        {
          "output_type": "execute_result",
          "data": {
            "text/plain": [
              "   RecordID  age         workclass  fnlwgt  education  education-num  \\\n",
              "0         1   39         State-gov   77516  Bachelors             13   \n",
              "1         2   50  Self-emp-not-inc   83311  Bachelors             13   \n",
              "2         3   38           Private  215646    HS-grad              9   \n",
              "3         4   53           Private  234721       11th              7   \n",
              "4         5   28           Private  338409  Bachelors             13   \n",
              "5         6   37           Private  284582    Masters             14   \n",
              "6         7   49           Private  160187        9th              5   \n",
              "7         8   52  Self-emp-not-inc  209642    HS-grad              9   \n",
              "8         9   31           Private   45781    Masters             14   \n",
              "9        10   42           Private  159449  Bachelors             13   \n",
              "\n",
              "          marital-status         occupation   relationship   race     sex  \\\n",
              "0          Never-married       Adm-clerical  Not-in-family  White    Male   \n",
              "1     Married-civ-spouse    Exec-managerial        Husband  White    Male   \n",
              "2               Divorced  Handlers-cleaners  Not-in-family  White    Male   \n",
              "3     Married-civ-spouse  Handlers-cleaners        Husband  Black    Male   \n",
              "4     Married-civ-spouse     Prof-specialty           Wife  Black  Female   \n",
              "5     Married-civ-spouse    Exec-managerial           Wife  White  Female   \n",
              "6  Married-spouse-absent      Other-service  Not-in-family  Black  Female   \n",
              "7     Married-civ-spouse    Exec-managerial        Husband  White    Male   \n",
              "8          Never-married     Prof-specialty  Not-in-family  White  Female   \n",
              "9     Married-civ-spouse    Exec-managerial        Husband  White    Male   \n",
              "\n",
              "   capital-gain  capital-loss  hours-per-week        country salary  \n",
              "0          2174             0              40  United-States  <=50K  \n",
              "1             0             0              13  United-States  <=50K  \n",
              "2             0             0              40  United-States  <=50K  \n",
              "3             0             0              40  United-States  <=50K  \n",
              "4             0             0              40           Cuba  <=50K  \n",
              "5             0             0              40  United-States  <=50K  \n",
              "6             0             0              16        Jamaica  <=50K  \n",
              "7             0             0              45  United-States   >50K  \n",
              "8         14084             0              50  United-States   >50K  \n",
              "9          5178             0              40  United-States   >50K  "
            ],
            "text/html": [
              "\n",
              "  <div id=\"df-3b0180cd-5500-4599-9329-acb81f5d4abe\">\n",
              "    <div class=\"colab-df-container\">\n",
              "      <div>\n",
              "<style scoped>\n",
              "    .dataframe tbody tr th:only-of-type {\n",
              "        vertical-align: middle;\n",
              "    }\n",
              "\n",
              "    .dataframe tbody tr th {\n",
              "        vertical-align: top;\n",
              "    }\n",
              "\n",
              "    .dataframe thead th {\n",
              "        text-align: right;\n",
              "    }\n",
              "</style>\n",
              "<table border=\"1\" class=\"dataframe\">\n",
              "  <thead>\n",
              "    <tr style=\"text-align: right;\">\n",
              "      <th></th>\n",
              "      <th>RecordID</th>\n",
              "      <th>age</th>\n",
              "      <th>workclass</th>\n",
              "      <th>fnlwgt</th>\n",
              "      <th>education</th>\n",
              "      <th>education-num</th>\n",
              "      <th>marital-status</th>\n",
              "      <th>occupation</th>\n",
              "      <th>relationship</th>\n",
              "      <th>race</th>\n",
              "      <th>sex</th>\n",
              "      <th>capital-gain</th>\n",
              "      <th>capital-loss</th>\n",
              "      <th>hours-per-week</th>\n",
              "      <th>country</th>\n",
              "      <th>salary</th>\n",
              "    </tr>\n",
              "  </thead>\n",
              "  <tbody>\n",
              "    <tr>\n",
              "      <th>0</th>\n",
              "      <td>1</td>\n",
              "      <td>39</td>\n",
              "      <td>State-gov</td>\n",
              "      <td>77516</td>\n",
              "      <td>Bachelors</td>\n",
              "      <td>13</td>\n",
              "      <td>Never-married</td>\n",
              "      <td>Adm-clerical</td>\n",
              "      <td>Not-in-family</td>\n",
              "      <td>White</td>\n",
              "      <td>Male</td>\n",
              "      <td>2174</td>\n",
              "      <td>0</td>\n",
              "      <td>40</td>\n",
              "      <td>United-States</td>\n",
              "      <td>&lt;=50K</td>\n",
              "    </tr>\n",
              "    <tr>\n",
              "      <th>1</th>\n",
              "      <td>2</td>\n",
              "      <td>50</td>\n",
              "      <td>Self-emp-not-inc</td>\n",
              "      <td>83311</td>\n",
              "      <td>Bachelors</td>\n",
              "      <td>13</td>\n",
              "      <td>Married-civ-spouse</td>\n",
              "      <td>Exec-managerial</td>\n",
              "      <td>Husband</td>\n",
              "      <td>White</td>\n",
              "      <td>Male</td>\n",
              "      <td>0</td>\n",
              "      <td>0</td>\n",
              "      <td>13</td>\n",
              "      <td>United-States</td>\n",
              "      <td>&lt;=50K</td>\n",
              "    </tr>\n",
              "    <tr>\n",
              "      <th>2</th>\n",
              "      <td>3</td>\n",
              "      <td>38</td>\n",
              "      <td>Private</td>\n",
              "      <td>215646</td>\n",
              "      <td>HS-grad</td>\n",
              "      <td>9</td>\n",
              "      <td>Divorced</td>\n",
              "      <td>Handlers-cleaners</td>\n",
              "      <td>Not-in-family</td>\n",
              "      <td>White</td>\n",
              "      <td>Male</td>\n",
              "      <td>0</td>\n",
              "      <td>0</td>\n",
              "      <td>40</td>\n",
              "      <td>United-States</td>\n",
              "      <td>&lt;=50K</td>\n",
              "    </tr>\n",
              "    <tr>\n",
              "      <th>3</th>\n",
              "      <td>4</td>\n",
              "      <td>53</td>\n",
              "      <td>Private</td>\n",
              "      <td>234721</td>\n",
              "      <td>11th</td>\n",
              "      <td>7</td>\n",
              "      <td>Married-civ-spouse</td>\n",
              "      <td>Handlers-cleaners</td>\n",
              "      <td>Husband</td>\n",
              "      <td>Black</td>\n",
              "      <td>Male</td>\n",
              "      <td>0</td>\n",
              "      <td>0</td>\n",
              "      <td>40</td>\n",
              "      <td>United-States</td>\n",
              "      <td>&lt;=50K</td>\n",
              "    </tr>\n",
              "    <tr>\n",
              "      <th>4</th>\n",
              "      <td>5</td>\n",
              "      <td>28</td>\n",
              "      <td>Private</td>\n",
              "      <td>338409</td>\n",
              "      <td>Bachelors</td>\n",
              "      <td>13</td>\n",
              "      <td>Married-civ-spouse</td>\n",
              "      <td>Prof-specialty</td>\n",
              "      <td>Wife</td>\n",
              "      <td>Black</td>\n",
              "      <td>Female</td>\n",
              "      <td>0</td>\n",
              "      <td>0</td>\n",
              "      <td>40</td>\n",
              "      <td>Cuba</td>\n",
              "      <td>&lt;=50K</td>\n",
              "    </tr>\n",
              "    <tr>\n",
              "      <th>5</th>\n",
              "      <td>6</td>\n",
              "      <td>37</td>\n",
              "      <td>Private</td>\n",
              "      <td>284582</td>\n",
              "      <td>Masters</td>\n",
              "      <td>14</td>\n",
              "      <td>Married-civ-spouse</td>\n",
              "      <td>Exec-managerial</td>\n",
              "      <td>Wife</td>\n",
              "      <td>White</td>\n",
              "      <td>Female</td>\n",
              "      <td>0</td>\n",
              "      <td>0</td>\n",
              "      <td>40</td>\n",
              "      <td>United-States</td>\n",
              "      <td>&lt;=50K</td>\n",
              "    </tr>\n",
              "    <tr>\n",
              "      <th>6</th>\n",
              "      <td>7</td>\n",
              "      <td>49</td>\n",
              "      <td>Private</td>\n",
              "      <td>160187</td>\n",
              "      <td>9th</td>\n",
              "      <td>5</td>\n",
              "      <td>Married-spouse-absent</td>\n",
              "      <td>Other-service</td>\n",
              "      <td>Not-in-family</td>\n",
              "      <td>Black</td>\n",
              "      <td>Female</td>\n",
              "      <td>0</td>\n",
              "      <td>0</td>\n",
              "      <td>16</td>\n",
              "      <td>Jamaica</td>\n",
              "      <td>&lt;=50K</td>\n",
              "    </tr>\n",
              "    <tr>\n",
              "      <th>7</th>\n",
              "      <td>8</td>\n",
              "      <td>52</td>\n",
              "      <td>Self-emp-not-inc</td>\n",
              "      <td>209642</td>\n",
              "      <td>HS-grad</td>\n",
              "      <td>9</td>\n",
              "      <td>Married-civ-spouse</td>\n",
              "      <td>Exec-managerial</td>\n",
              "      <td>Husband</td>\n",
              "      <td>White</td>\n",
              "      <td>Male</td>\n",
              "      <td>0</td>\n",
              "      <td>0</td>\n",
              "      <td>45</td>\n",
              "      <td>United-States</td>\n",
              "      <td>&gt;50K</td>\n",
              "    </tr>\n",
              "    <tr>\n",
              "      <th>8</th>\n",
              "      <td>9</td>\n",
              "      <td>31</td>\n",
              "      <td>Private</td>\n",
              "      <td>45781</td>\n",
              "      <td>Masters</td>\n",
              "      <td>14</td>\n",
              "      <td>Never-married</td>\n",
              "      <td>Prof-specialty</td>\n",
              "      <td>Not-in-family</td>\n",
              "      <td>White</td>\n",
              "      <td>Female</td>\n",
              "      <td>14084</td>\n",
              "      <td>0</td>\n",
              "      <td>50</td>\n",
              "      <td>United-States</td>\n",
              "      <td>&gt;50K</td>\n",
              "    </tr>\n",
              "    <tr>\n",
              "      <th>9</th>\n",
              "      <td>10</td>\n",
              "      <td>42</td>\n",
              "      <td>Private</td>\n",
              "      <td>159449</td>\n",
              "      <td>Bachelors</td>\n",
              "      <td>13</td>\n",
              "      <td>Married-civ-spouse</td>\n",
              "      <td>Exec-managerial</td>\n",
              "      <td>Husband</td>\n",
              "      <td>White</td>\n",
              "      <td>Male</td>\n",
              "      <td>5178</td>\n",
              "      <td>0</td>\n",
              "      <td>40</td>\n",
              "      <td>United-States</td>\n",
              "      <td>&gt;50K</td>\n",
              "    </tr>\n",
              "  </tbody>\n",
              "</table>\n",
              "</div>\n",
              "      <button class=\"colab-df-convert\" onclick=\"convertToInteractive('df-3b0180cd-5500-4599-9329-acb81f5d4abe')\"\n",
              "              title=\"Convert this dataframe to an interactive table.\"\n",
              "              style=\"display:none;\">\n",
              "        \n",
              "  <svg xmlns=\"http://www.w3.org/2000/svg\" height=\"24px\"viewBox=\"0 0 24 24\"\n",
              "       width=\"24px\">\n",
              "    <path d=\"M0 0h24v24H0V0z\" fill=\"none\"/>\n",
              "    <path d=\"M18.56 5.44l.94 2.06.94-2.06 2.06-.94-2.06-.94-.94-2.06-.94 2.06-2.06.94zm-11 1L8.5 8.5l.94-2.06 2.06-.94-2.06-.94L8.5 2.5l-.94 2.06-2.06.94zm10 10l.94 2.06.94-2.06 2.06-.94-2.06-.94-.94-2.06-.94 2.06-2.06.94z\"/><path d=\"M17.41 7.96l-1.37-1.37c-.4-.4-.92-.59-1.43-.59-.52 0-1.04.2-1.43.59L10.3 9.45l-7.72 7.72c-.78.78-.78 2.05 0 2.83L4 21.41c.39.39.9.59 1.41.59.51 0 1.02-.2 1.41-.59l7.78-7.78 2.81-2.81c.8-.78.8-2.07 0-2.86zM5.41 20L4 18.59l7.72-7.72 1.47 1.35L5.41 20z\"/>\n",
              "  </svg>\n",
              "      </button>\n",
              "      \n",
              "  <style>\n",
              "    .colab-df-container {\n",
              "      display:flex;\n",
              "      flex-wrap:wrap;\n",
              "      gap: 12px;\n",
              "    }\n",
              "\n",
              "    .colab-df-convert {\n",
              "      background-color: #E8F0FE;\n",
              "      border: none;\n",
              "      border-radius: 50%;\n",
              "      cursor: pointer;\n",
              "      display: none;\n",
              "      fill: #1967D2;\n",
              "      height: 32px;\n",
              "      padding: 0 0 0 0;\n",
              "      width: 32px;\n",
              "    }\n",
              "\n",
              "    .colab-df-convert:hover {\n",
              "      background-color: #E2EBFA;\n",
              "      box-shadow: 0px 1px 2px rgba(60, 64, 67, 0.3), 0px 1px 3px 1px rgba(60, 64, 67, 0.15);\n",
              "      fill: #174EA6;\n",
              "    }\n",
              "\n",
              "    [theme=dark] .colab-df-convert {\n",
              "      background-color: #3B4455;\n",
              "      fill: #D2E3FC;\n",
              "    }\n",
              "\n",
              "    [theme=dark] .colab-df-convert:hover {\n",
              "      background-color: #434B5C;\n",
              "      box-shadow: 0px 1px 3px 1px rgba(0, 0, 0, 0.15);\n",
              "      filter: drop-shadow(0px 1px 2px rgba(0, 0, 0, 0.3));\n",
              "      fill: #FFFFFF;\n",
              "    }\n",
              "  </style>\n",
              "\n",
              "      <script>\n",
              "        const buttonEl =\n",
              "          document.querySelector('#df-3b0180cd-5500-4599-9329-acb81f5d4abe button.colab-df-convert');\n",
              "        buttonEl.style.display =\n",
              "          google.colab.kernel.accessAllowed ? 'block' : 'none';\n",
              "\n",
              "        async function convertToInteractive(key) {\n",
              "          const element = document.querySelector('#df-3b0180cd-5500-4599-9329-acb81f5d4abe');\n",
              "          const dataTable =\n",
              "            await google.colab.kernel.invokeFunction('convertToInteractive',\n",
              "                                                     [key], {});\n",
              "          if (!dataTable) return;\n",
              "\n",
              "          const docLinkHtml = 'Like what you see? Visit the ' +\n",
              "            '<a target=\"_blank\" href=https://colab.research.google.com/notebooks/data_table.ipynb>data table notebook</a>'\n",
              "            + ' to learn more about interactive tables.';\n",
              "          element.innerHTML = '';\n",
              "          dataTable['output_type'] = 'display_data';\n",
              "          await google.colab.output.renderOutput(dataTable, element);\n",
              "          const docLink = document.createElement('div');\n",
              "          docLink.innerHTML = docLinkHtml;\n",
              "          element.appendChild(docLink);\n",
              "        }\n",
              "      </script>\n",
              "    </div>\n",
              "  </div>\n",
              "  "
            ]
          },
          "metadata": {},
          "execution_count": 7
        }
      ],
      "source": [
        "# The show method allows you visualise DataFrames in a tabular format. \n",
        "pd.DataFrame(df.take(10), columns=df.columns)"
      ]
    },
    {
      "cell_type": "code",
      "execution_count": 8,
      "metadata": {
        "colab": {
          "base_uri": "https://localhost:8080/"
        },
        "id": "GB118p5o6DP6",
        "outputId": "10f37b28-79a2-4776-82b2-552225ddcd7f"
      },
      "outputs": [
        {
          "output_type": "stream",
          "name": "stdout",
          "text": [
            "[Row(RecordID=1, age=39, workclass='State-gov', fnlwgt=77516, education='Bachelors', education-num=13, marital-status='Never-married', occupation='Adm-clerical', relationship='Not-in-family', race='White', sex='Male', capital-gain=2174, capital-loss=0, hours-per-week=40, country='United-States', salary='<=50K')]\n"
          ]
        }
      ],
      "source": [
        "#Show some key details about the attributes\n",
        "print(df.head(1))"
      ]
    },
    {
      "cell_type": "code",
      "execution_count": 9,
      "metadata": {
        "colab": {
          "base_uri": "https://localhost:8080/",
          "height": 175
        },
        "id": "__ZJyE946DP7",
        "outputId": "424615b7-fff0-4693-8440-f5c31e1efd55"
      },
      "outputs": [
        {
          "output_type": "execute_result",
          "data": {
            "text/plain": [
              "                    0                   1                   2    3    4\n",
              "summary         count                mean              stddev  min  max\n",
              "age             32561   38.58164675532078  13.640432553581356   17   90\n",
              "education-num   32561    10.0806793403151   2.572720332067397    1   16\n",
              "hours-per-week  32561  40.437455852092995  12.347428681731838    1   99"
            ],
            "text/html": [
              "\n",
              "  <div id=\"df-30e91290-b622-400c-b38d-2754363dbcae\">\n",
              "    <div class=\"colab-df-container\">\n",
              "      <div>\n",
              "<style scoped>\n",
              "    .dataframe tbody tr th:only-of-type {\n",
              "        vertical-align: middle;\n",
              "    }\n",
              "\n",
              "    .dataframe tbody tr th {\n",
              "        vertical-align: top;\n",
              "    }\n",
              "\n",
              "    .dataframe thead th {\n",
              "        text-align: right;\n",
              "    }\n",
              "</style>\n",
              "<table border=\"1\" class=\"dataframe\">\n",
              "  <thead>\n",
              "    <tr style=\"text-align: right;\">\n",
              "      <th></th>\n",
              "      <th>0</th>\n",
              "      <th>1</th>\n",
              "      <th>2</th>\n",
              "      <th>3</th>\n",
              "      <th>4</th>\n",
              "    </tr>\n",
              "  </thead>\n",
              "  <tbody>\n",
              "    <tr>\n",
              "      <th>summary</th>\n",
              "      <td>count</td>\n",
              "      <td>mean</td>\n",
              "      <td>stddev</td>\n",
              "      <td>min</td>\n",
              "      <td>max</td>\n",
              "    </tr>\n",
              "    <tr>\n",
              "      <th>age</th>\n",
              "      <td>32561</td>\n",
              "      <td>38.58164675532078</td>\n",
              "      <td>13.640432553581356</td>\n",
              "      <td>17</td>\n",
              "      <td>90</td>\n",
              "    </tr>\n",
              "    <tr>\n",
              "      <th>education-num</th>\n",
              "      <td>32561</td>\n",
              "      <td>10.0806793403151</td>\n",
              "      <td>2.572720332067397</td>\n",
              "      <td>1</td>\n",
              "      <td>16</td>\n",
              "    </tr>\n",
              "    <tr>\n",
              "      <th>hours-per-week</th>\n",
              "      <td>32561</td>\n",
              "      <td>40.437455852092995</td>\n",
              "      <td>12.347428681731838</td>\n",
              "      <td>1</td>\n",
              "      <td>99</td>\n",
              "    </tr>\n",
              "  </tbody>\n",
              "</table>\n",
              "</div>\n",
              "      <button class=\"colab-df-convert\" onclick=\"convertToInteractive('df-30e91290-b622-400c-b38d-2754363dbcae')\"\n",
              "              title=\"Convert this dataframe to an interactive table.\"\n",
              "              style=\"display:none;\">\n",
              "        \n",
              "  <svg xmlns=\"http://www.w3.org/2000/svg\" height=\"24px\"viewBox=\"0 0 24 24\"\n",
              "       width=\"24px\">\n",
              "    <path d=\"M0 0h24v24H0V0z\" fill=\"none\"/>\n",
              "    <path d=\"M18.56 5.44l.94 2.06.94-2.06 2.06-.94-2.06-.94-.94-2.06-.94 2.06-2.06.94zm-11 1L8.5 8.5l.94-2.06 2.06-.94-2.06-.94L8.5 2.5l-.94 2.06-2.06.94zm10 10l.94 2.06.94-2.06 2.06-.94-2.06-.94-.94-2.06-.94 2.06-2.06.94z\"/><path d=\"M17.41 7.96l-1.37-1.37c-.4-.4-.92-.59-1.43-.59-.52 0-1.04.2-1.43.59L10.3 9.45l-7.72 7.72c-.78.78-.78 2.05 0 2.83L4 21.41c.39.39.9.59 1.41.59.51 0 1.02-.2 1.41-.59l7.78-7.78 2.81-2.81c.8-.78.8-2.07 0-2.86zM5.41 20L4 18.59l7.72-7.72 1.47 1.35L5.41 20z\"/>\n",
              "  </svg>\n",
              "      </button>\n",
              "      \n",
              "  <style>\n",
              "    .colab-df-container {\n",
              "      display:flex;\n",
              "      flex-wrap:wrap;\n",
              "      gap: 12px;\n",
              "    }\n",
              "\n",
              "    .colab-df-convert {\n",
              "      background-color: #E8F0FE;\n",
              "      border: none;\n",
              "      border-radius: 50%;\n",
              "      cursor: pointer;\n",
              "      display: none;\n",
              "      fill: #1967D2;\n",
              "      height: 32px;\n",
              "      padding: 0 0 0 0;\n",
              "      width: 32px;\n",
              "    }\n",
              "\n",
              "    .colab-df-convert:hover {\n",
              "      background-color: #E2EBFA;\n",
              "      box-shadow: 0px 1px 2px rgba(60, 64, 67, 0.3), 0px 1px 3px 1px rgba(60, 64, 67, 0.15);\n",
              "      fill: #174EA6;\n",
              "    }\n",
              "\n",
              "    [theme=dark] .colab-df-convert {\n",
              "      background-color: #3B4455;\n",
              "      fill: #D2E3FC;\n",
              "    }\n",
              "\n",
              "    [theme=dark] .colab-df-convert:hover {\n",
              "      background-color: #434B5C;\n",
              "      box-shadow: 0px 1px 3px 1px rgba(0, 0, 0, 0.15);\n",
              "      filter: drop-shadow(0px 1px 2px rgba(0, 0, 0, 0.3));\n",
              "      fill: #FFFFFF;\n",
              "    }\n",
              "  </style>\n",
              "\n",
              "      <script>\n",
              "        const buttonEl =\n",
              "          document.querySelector('#df-30e91290-b622-400c-b38d-2754363dbcae button.colab-df-convert');\n",
              "        buttonEl.style.display =\n",
              "          google.colab.kernel.accessAllowed ? 'block' : 'none';\n",
              "\n",
              "        async function convertToInteractive(key) {\n",
              "          const element = document.querySelector('#df-30e91290-b622-400c-b38d-2754363dbcae');\n",
              "          const dataTable =\n",
              "            await google.colab.kernel.invokeFunction('convertToInteractive',\n",
              "                                                     [key], {});\n",
              "          if (!dataTable) return;\n",
              "\n",
              "          const docLinkHtml = 'Like what you see? Visit the ' +\n",
              "            '<a target=\"_blank\" href=https://colab.research.google.com/notebooks/data_table.ipynb>data table notebook</a>'\n",
              "            + ' to learn more about interactive tables.';\n",
              "          element.innerHTML = '';\n",
              "          dataTable['output_type'] = 'display_data';\n",
              "          await google.colab.output.renderOutput(dataTable, element);\n",
              "          const docLink = document.createElement('div');\n",
              "          docLink.innerHTML = docLinkHtml;\n",
              "          element.appendChild(docLink);\n",
              "        }\n",
              "      </script>\n",
              "    </div>\n",
              "  </div>\n",
              "  "
            ]
          },
          "metadata": {},
          "execution_count": 9
        }
      ],
      "source": [
        "df.describe('age', 'education-num','hours-per-week').toPandas().transpose()"
      ]
    },
    {
      "cell_type": "code",
      "execution_count": 10,
      "metadata": {
        "colab": {
          "base_uri": "https://localhost:8080/"
        },
        "id": "BoRgntLy6DP8",
        "outputId": "b7cba1a9-fbbb-46fb-b3ce-b15f46573e28"
      },
      "outputs": [
        {
          "output_type": "stream",
          "name": "stdout",
          "text": [
            "root\n",
            " |-- RecordID: integer (nullable = true)\n",
            " |-- age: integer (nullable = true)\n",
            " |-- workclass: string (nullable = true)\n",
            " |-- fnlwgt: integer (nullable = true)\n",
            " |-- education: string (nullable = true)\n",
            " |-- education-num: integer (nullable = true)\n",
            " |-- marital-status: string (nullable = true)\n",
            " |-- occupation: string (nullable = true)\n",
            " |-- relationship: string (nullable = true)\n",
            " |-- race: string (nullable = true)\n",
            " |-- sex: string (nullable = true)\n",
            " |-- capital-gain: integer (nullable = true)\n",
            " |-- capital-loss: integer (nullable = true)\n",
            " |-- hours-per-week: integer (nullable = true)\n",
            " |-- country: string (nullable = true)\n",
            " |-- salary: string (nullable = true)\n",
            "\n"
          ]
        }
      ],
      "source": [
        "#Print Scheme\n",
        "df.printSchema()"
      ]
    },
    {
      "cell_type": "code",
      "execution_count": 11,
      "metadata": {
        "colab": {
          "base_uri": "https://localhost:8080/"
        },
        "id": "mq6dw9Vl6DP8",
        "outputId": "aacb110e-3381-43e2-b506-0cea58771b69"
      },
      "outputs": [
        {
          "output_type": "stream",
          "name": "stdout",
          "text": [
            "+------+-----+\n",
            "|salary|count|\n",
            "+------+-----+\n",
            "| <=50K|24720|\n",
            "|  >50K| 7841|\n",
            "+------+-----+\n",
            "\n",
            "+------------------+-----+\n",
            "|              race|count|\n",
            "+------------------+-----+\n",
            "|             Other|  271|\n",
            "|Amer-Indian-Eskimo|  311|\n",
            "|             White|27816|\n",
            "|Asian-Pac-Islander| 1039|\n",
            "|             Black| 3124|\n",
            "+------------------+-----+\n",
            "\n",
            "+------+-----+\n",
            "|   sex|count|\n",
            "+------+-----+\n",
            "|Female|10771|\n",
            "|  Male|21790|\n",
            "+------+-----+\n",
            "\n"
          ]
        }
      ],
      "source": [
        "df.groupBy('salary').count().show()\n",
        "df.groupBy('race').count().show()\n",
        "df.groupBy('sex').count().show()"
      ]
    },
    {
      "cell_type": "code",
      "execution_count": 12,
      "metadata": {
        "id": "wI9nRELN6DP9"
      },
      "outputs": [],
      "source": [
        "#Drop the unwanted column\n",
        "dropped_df = df.drop('fnlwgt')\n",
        "dropped_df = dropped_df.na.drop()\n",
        "dropped_df = dropped_df.drop('capital-loss')\n",
        "dropped_df = dropped_df.drop('capital-gain')"
      ]
    },
    {
      "cell_type": "code",
      "execution_count": 13,
      "metadata": {
        "scrolled": true,
        "colab": {
          "base_uri": "https://localhost:8080/"
        },
        "id": "84Hc8LJ36DP-",
        "outputId": "8ce0164a-26ba-4d7b-cce1-d9c5759b7951"
      },
      "outputs": [
        {
          "output_type": "stream",
          "name": "stdout",
          "text": [
            "+-------+-----------------+------------------+-----------+------------------+------------+-----------------+--------------+----------------+------------+------------------+------+------------------+----------------+------------------+----------+------+\n",
            "|summary|         RecordID|               age|  workclass|            fnlwgt|   education|    education-num|marital-status|      occupation|relationship|              race|   sex|      capital-gain|    capital-loss|    hours-per-week|   country|salary|\n",
            "+-------+-----------------+------------------+-----------+------------------+------------+-----------------+--------------+----------------+------------+------------------+------+------------------+----------------+------------------+----------+------+\n",
            "|  count|            32561|             32561|      30725|             32561|       32561|            32561|         32561|           30718|       32561|             32561| 32561|             32561|           32561|             32561|     31978| 32561|\n",
            "|   mean|          16281.0| 38.58164675532078|       null|189778.36651208502|        null| 10.0806793403151|          null|            null|        null|              null|  null|1077.6488437087312| 87.303829734959|40.437455852092995|      null|  null|\n",
            "| stddev|9399.695394000808|13.640432553581356|       null|105549.97769702227|        null|2.572720332067397|          null|            null|        null|              null|  null| 7385.292084840354|402.960218649002|12.347428681731838|      null|  null|\n",
            "|    min|                1|                17|Federal-gov|             12285|        10th|                1|      Divorced|    Adm-clerical|     Husband|Amer-Indian-Eskimo|Female|                 0|               0|                 1|  Cambodia| <=50K|\n",
            "|    max|            32561|                90|Without-pay|           1484705|Some-college|               16|       Widowed|Transport-moving|        Wife|             White|  Male|             99999|            4356|                99|Yugoslavia|  >50K|\n",
            "+-------+-----------------+------------------+-----------+------------------+------------+-----------------+--------------+----------------+------------+------------------+------+------------------+----------------+------------------+----------+------+\n",
            "\n"
          ]
        }
      ],
      "source": [
        "df.describe().show()"
      ]
    },
    {
      "cell_type": "code",
      "execution_count": 14,
      "metadata": {
        "colab": {
          "base_uri": "https://localhost:8080/"
        },
        "id": "16rO_wg56DP_",
        "outputId": "4bd78732-e1d9-402d-e987-d811821103ba"
      },
      "outputs": [
        {
          "output_type": "stream",
          "name": "stdout",
          "text": [
            "+-------+------------------+------------------+-----------+------------+------------------+--------------+----------------+------------+------------------+------+-----------------+----------+------+\n",
            "|summary|          RecordID|               age|  workclass|   education|     education-num|marital-status|      occupation|relationship|              race|   sex|   hours-per-week|   country|salary|\n",
            "+-------+------------------+------------------+-----------+------------+------------------+--------------+----------------+------------+------------------+------+-----------------+----------+------+\n",
            "|  count|             30162|             30162|      30162|       30162|             30162|         30162|           30162|       30162|             30162| 30162|            30162|     30162| 30162|\n",
            "|   mean|16288.103242490552|38.437901995888865|       null|        null| 10.12131158411246|          null|            null|        null|              null|  null|40.93123798156621|      null|  null|\n",
            "| stddev| 9383.401676372081|13.134664776856017|       null|        null|2.5499949188567355|          null|            null|        null|              null|  null|11.97998422927489|      null|  null|\n",
            "|    min|                 1|                17|Federal-gov|        10th|                 1|      Divorced|    Adm-clerical|     Husband|Amer-Indian-Eskimo|Female|                1|  Cambodia| <=50K|\n",
            "|    max|             32561|                90|Without-pay|Some-college|                16|       Widowed|Transport-moving|        Wife|             White|  Male|               99|Yugoslavia|  >50K|\n",
            "+-------+------------------+------------------+-----------+------------+------------------+--------------+----------------+------------+------------------+------+-----------------+----------+------+\n",
            "\n"
          ]
        }
      ],
      "source": [
        "dropped_df.describe().show()"
      ]
    },
    {
      "cell_type": "code",
      "execution_count": 15,
      "metadata": {
        "scrolled": false,
        "colab": {
          "base_uri": "https://localhost:8080/",
          "height": 488
        },
        "id": "Yeh_gviX6DQA",
        "outputId": "397f0ff9-4741-4d0b-afa1-936ded3816a4"
      },
      "outputs": [
        {
          "output_type": "execute_result",
          "data": {
            "text/plain": [
              "                    0                   1                   2  \\\n",
              "summary         count                mean              stddev   \n",
              "RecordID        30162  16288.103242490552   9383.401676372081   \n",
              "age             30162  38.437901995888865  13.134664776856017   \n",
              "workclass       30162                None                None   \n",
              "education       30162                None                None   \n",
              "education-num   30162   10.12131158411246  2.5499949188567355   \n",
              "marital-status  30162                None                None   \n",
              "occupation      30162                None                None   \n",
              "relationship    30162                None                None   \n",
              "race            30162                None                None   \n",
              "sex             30162                None                None   \n",
              "hours-per-week  30162   40.93123798156621   11.97998422927489   \n",
              "country         30162                None                None   \n",
              "salary          30162                None                None   \n",
              "\n",
              "                                 3                 4  \n",
              "summary                        min               max  \n",
              "RecordID                         1             32561  \n",
              "age                             17                90  \n",
              "workclass              Federal-gov       Without-pay  \n",
              "education                     10th      Some-college  \n",
              "education-num                    1                16  \n",
              "marital-status            Divorced           Widowed  \n",
              "occupation            Adm-clerical  Transport-moving  \n",
              "relationship               Husband              Wife  \n",
              "race            Amer-Indian-Eskimo             White  \n",
              "sex                         Female              Male  \n",
              "hours-per-week                   1                99  \n",
              "country                   Cambodia        Yugoslavia  \n",
              "salary                          no               yes  "
            ],
            "text/html": [
              "\n",
              "  <div id=\"df-d2b14dd2-75ae-4077-85e3-17f5baf78784\">\n",
              "    <div class=\"colab-df-container\">\n",
              "      <div>\n",
              "<style scoped>\n",
              "    .dataframe tbody tr th:only-of-type {\n",
              "        vertical-align: middle;\n",
              "    }\n",
              "\n",
              "    .dataframe tbody tr th {\n",
              "        vertical-align: top;\n",
              "    }\n",
              "\n",
              "    .dataframe thead th {\n",
              "        text-align: right;\n",
              "    }\n",
              "</style>\n",
              "<table border=\"1\" class=\"dataframe\">\n",
              "  <thead>\n",
              "    <tr style=\"text-align: right;\">\n",
              "      <th></th>\n",
              "      <th>0</th>\n",
              "      <th>1</th>\n",
              "      <th>2</th>\n",
              "      <th>3</th>\n",
              "      <th>4</th>\n",
              "    </tr>\n",
              "  </thead>\n",
              "  <tbody>\n",
              "    <tr>\n",
              "      <th>summary</th>\n",
              "      <td>count</td>\n",
              "      <td>mean</td>\n",
              "      <td>stddev</td>\n",
              "      <td>min</td>\n",
              "      <td>max</td>\n",
              "    </tr>\n",
              "    <tr>\n",
              "      <th>RecordID</th>\n",
              "      <td>30162</td>\n",
              "      <td>16288.103242490552</td>\n",
              "      <td>9383.401676372081</td>\n",
              "      <td>1</td>\n",
              "      <td>32561</td>\n",
              "    </tr>\n",
              "    <tr>\n",
              "      <th>age</th>\n",
              "      <td>30162</td>\n",
              "      <td>38.437901995888865</td>\n",
              "      <td>13.134664776856017</td>\n",
              "      <td>17</td>\n",
              "      <td>90</td>\n",
              "    </tr>\n",
              "    <tr>\n",
              "      <th>workclass</th>\n",
              "      <td>30162</td>\n",
              "      <td>None</td>\n",
              "      <td>None</td>\n",
              "      <td>Federal-gov</td>\n",
              "      <td>Without-pay</td>\n",
              "    </tr>\n",
              "    <tr>\n",
              "      <th>education</th>\n",
              "      <td>30162</td>\n",
              "      <td>None</td>\n",
              "      <td>None</td>\n",
              "      <td>10th</td>\n",
              "      <td>Some-college</td>\n",
              "    </tr>\n",
              "    <tr>\n",
              "      <th>education-num</th>\n",
              "      <td>30162</td>\n",
              "      <td>10.12131158411246</td>\n",
              "      <td>2.5499949188567355</td>\n",
              "      <td>1</td>\n",
              "      <td>16</td>\n",
              "    </tr>\n",
              "    <tr>\n",
              "      <th>marital-status</th>\n",
              "      <td>30162</td>\n",
              "      <td>None</td>\n",
              "      <td>None</td>\n",
              "      <td>Divorced</td>\n",
              "      <td>Widowed</td>\n",
              "    </tr>\n",
              "    <tr>\n",
              "      <th>occupation</th>\n",
              "      <td>30162</td>\n",
              "      <td>None</td>\n",
              "      <td>None</td>\n",
              "      <td>Adm-clerical</td>\n",
              "      <td>Transport-moving</td>\n",
              "    </tr>\n",
              "    <tr>\n",
              "      <th>relationship</th>\n",
              "      <td>30162</td>\n",
              "      <td>None</td>\n",
              "      <td>None</td>\n",
              "      <td>Husband</td>\n",
              "      <td>Wife</td>\n",
              "    </tr>\n",
              "    <tr>\n",
              "      <th>race</th>\n",
              "      <td>30162</td>\n",
              "      <td>None</td>\n",
              "      <td>None</td>\n",
              "      <td>Amer-Indian-Eskimo</td>\n",
              "      <td>White</td>\n",
              "    </tr>\n",
              "    <tr>\n",
              "      <th>sex</th>\n",
              "      <td>30162</td>\n",
              "      <td>None</td>\n",
              "      <td>None</td>\n",
              "      <td>Female</td>\n",
              "      <td>Male</td>\n",
              "    </tr>\n",
              "    <tr>\n",
              "      <th>hours-per-week</th>\n",
              "      <td>30162</td>\n",
              "      <td>40.93123798156621</td>\n",
              "      <td>11.97998422927489</td>\n",
              "      <td>1</td>\n",
              "      <td>99</td>\n",
              "    </tr>\n",
              "    <tr>\n",
              "      <th>country</th>\n",
              "      <td>30162</td>\n",
              "      <td>None</td>\n",
              "      <td>None</td>\n",
              "      <td>Cambodia</td>\n",
              "      <td>Yugoslavia</td>\n",
              "    </tr>\n",
              "    <tr>\n",
              "      <th>salary</th>\n",
              "      <td>30162</td>\n",
              "      <td>None</td>\n",
              "      <td>None</td>\n",
              "      <td>no</td>\n",
              "      <td>yes</td>\n",
              "    </tr>\n",
              "  </tbody>\n",
              "</table>\n",
              "</div>\n",
              "      <button class=\"colab-df-convert\" onclick=\"convertToInteractive('df-d2b14dd2-75ae-4077-85e3-17f5baf78784')\"\n",
              "              title=\"Convert this dataframe to an interactive table.\"\n",
              "              style=\"display:none;\">\n",
              "        \n",
              "  <svg xmlns=\"http://www.w3.org/2000/svg\" height=\"24px\"viewBox=\"0 0 24 24\"\n",
              "       width=\"24px\">\n",
              "    <path d=\"M0 0h24v24H0V0z\" fill=\"none\"/>\n",
              "    <path d=\"M18.56 5.44l.94 2.06.94-2.06 2.06-.94-2.06-.94-.94-2.06-.94 2.06-2.06.94zm-11 1L8.5 8.5l.94-2.06 2.06-.94-2.06-.94L8.5 2.5l-.94 2.06-2.06.94zm10 10l.94 2.06.94-2.06 2.06-.94-2.06-.94-.94-2.06-.94 2.06-2.06.94z\"/><path d=\"M17.41 7.96l-1.37-1.37c-.4-.4-.92-.59-1.43-.59-.52 0-1.04.2-1.43.59L10.3 9.45l-7.72 7.72c-.78.78-.78 2.05 0 2.83L4 21.41c.39.39.9.59 1.41.59.51 0 1.02-.2 1.41-.59l7.78-7.78 2.81-2.81c.8-.78.8-2.07 0-2.86zM5.41 20L4 18.59l7.72-7.72 1.47 1.35L5.41 20z\"/>\n",
              "  </svg>\n",
              "      </button>\n",
              "      \n",
              "  <style>\n",
              "    .colab-df-container {\n",
              "      display:flex;\n",
              "      flex-wrap:wrap;\n",
              "      gap: 12px;\n",
              "    }\n",
              "\n",
              "    .colab-df-convert {\n",
              "      background-color: #E8F0FE;\n",
              "      border: none;\n",
              "      border-radius: 50%;\n",
              "      cursor: pointer;\n",
              "      display: none;\n",
              "      fill: #1967D2;\n",
              "      height: 32px;\n",
              "      padding: 0 0 0 0;\n",
              "      width: 32px;\n",
              "    }\n",
              "\n",
              "    .colab-df-convert:hover {\n",
              "      background-color: #E2EBFA;\n",
              "      box-shadow: 0px 1px 2px rgba(60, 64, 67, 0.3), 0px 1px 3px 1px rgba(60, 64, 67, 0.15);\n",
              "      fill: #174EA6;\n",
              "    }\n",
              "\n",
              "    [theme=dark] .colab-df-convert {\n",
              "      background-color: #3B4455;\n",
              "      fill: #D2E3FC;\n",
              "    }\n",
              "\n",
              "    [theme=dark] .colab-df-convert:hover {\n",
              "      background-color: #434B5C;\n",
              "      box-shadow: 0px 1px 3px 1px rgba(0, 0, 0, 0.15);\n",
              "      filter: drop-shadow(0px 1px 2px rgba(0, 0, 0, 0.3));\n",
              "      fill: #FFFFFF;\n",
              "    }\n",
              "  </style>\n",
              "\n",
              "      <script>\n",
              "        const buttonEl =\n",
              "          document.querySelector('#df-d2b14dd2-75ae-4077-85e3-17f5baf78784 button.colab-df-convert');\n",
              "        buttonEl.style.display =\n",
              "          google.colab.kernel.accessAllowed ? 'block' : 'none';\n",
              "\n",
              "        async function convertToInteractive(key) {\n",
              "          const element = document.querySelector('#df-d2b14dd2-75ae-4077-85e3-17f5baf78784');\n",
              "          const dataTable =\n",
              "            await google.colab.kernel.invokeFunction('convertToInteractive',\n",
              "                                                     [key], {});\n",
              "          if (!dataTable) return;\n",
              "\n",
              "          const docLinkHtml = 'Like what you see? Visit the ' +\n",
              "            '<a target=\"_blank\" href=https://colab.research.google.com/notebooks/data_table.ipynb>data table notebook</a>'\n",
              "            + ' to learn more about interactive tables.';\n",
              "          element.innerHTML = '';\n",
              "          dataTable['output_type'] = 'display_data';\n",
              "          await google.colab.output.renderOutput(dataTable, element);\n",
              "          const docLink = document.createElement('div');\n",
              "          docLink.innerHTML = docLinkHtml;\n",
              "          element.appendChild(docLink);\n",
              "        }\n",
              "      </script>\n",
              "    </div>\n",
              "  </div>\n",
              "  "
            ]
          },
          "metadata": {},
          "execution_count": 15
        }
      ],
      "source": [
        "# Reclassify Label to Yes or No\n",
        "dropped_df = dropped_df.withColumn('salary', regexp_replace('salary', '>50K', 'yes'))\n",
        "dropped_df = dropped_df.withColumn('salary', regexp_replace('salary', '<=50K', 'no'))\n",
        "dropped_df.describe().toPandas().transpose()"
      ]
    },
    {
      "cell_type": "markdown",
      "metadata": {
        "id": "WogO526c6DQB"
      },
      "source": [
        "# Method Selection and Application"
      ]
    },
    {
      "cell_type": "code",
      "execution_count": 17,
      "metadata": {
        "id": "iFCdfNLW6DQB"
      },
      "outputs": [],
      "source": [
        "# Section must be included at the beginning of each new notebook. Remember to change the app name.\n",
        "# If you're using VirtualBox, change the below to '/home/user/spark-2.1.1-bin-hadoop2.7'\n",
        "import pyspark\n",
        "from pyspark.sql import SparkSession\n",
        "spark = SparkSession.builder.appName('ml_application').getOrCreate()\n",
        "\n",
        "# If you're getting an error with numpy, please type 'sudo pip3 install numpy --user' into the console.\n",
        "# If you're getting an error with another package, type 'sudo pip3 install PACKAGENAME --user'. \n",
        "# Replace PACKAGENAME with the relevant package (such as pandas, etc).\n",
        "\n",
        "#We already have our dataframe from above workings dropped_df and can ignore below\n",
        "# # First, let's import the data. Note that we can infer the schema as it's a CSV file.\n",
        "# df = spark.read.csv(\"Income.csv\",inferSchema=True,header=True)"
      ]
    },
    {
      "cell_type": "code",
      "execution_count": 18,
      "metadata": {
        "colab": {
          "base_uri": "https://localhost:8080/",
          "height": 175
        },
        "id": "L2x2B4JJ6DQC",
        "outputId": "1ac9115d-8afe-405d-9cf8-e756ced6ed0c"
      },
      "outputs": [
        {
          "output_type": "execute_result",
          "data": {
            "text/plain": [
              "                    0                   1                   2    3    4\n",
              "summary         count                mean              stddev  min  max\n",
              "age             30162  38.437901995888865  13.134664776856017   17   90\n",
              "education-num   30162   10.12131158411246  2.5499949188567355    1   16\n",
              "hours-per-week  30162   40.93123798156621   11.97998422927489    1   99"
            ],
            "text/html": [
              "\n",
              "  <div id=\"df-c8e4535c-dd1a-452b-b6a9-b666dd204fe9\">\n",
              "    <div class=\"colab-df-container\">\n",
              "      <div>\n",
              "<style scoped>\n",
              "    .dataframe tbody tr th:only-of-type {\n",
              "        vertical-align: middle;\n",
              "    }\n",
              "\n",
              "    .dataframe tbody tr th {\n",
              "        vertical-align: top;\n",
              "    }\n",
              "\n",
              "    .dataframe thead th {\n",
              "        text-align: right;\n",
              "    }\n",
              "</style>\n",
              "<table border=\"1\" class=\"dataframe\">\n",
              "  <thead>\n",
              "    <tr style=\"text-align: right;\">\n",
              "      <th></th>\n",
              "      <th>0</th>\n",
              "      <th>1</th>\n",
              "      <th>2</th>\n",
              "      <th>3</th>\n",
              "      <th>4</th>\n",
              "    </tr>\n",
              "  </thead>\n",
              "  <tbody>\n",
              "    <tr>\n",
              "      <th>summary</th>\n",
              "      <td>count</td>\n",
              "      <td>mean</td>\n",
              "      <td>stddev</td>\n",
              "      <td>min</td>\n",
              "      <td>max</td>\n",
              "    </tr>\n",
              "    <tr>\n",
              "      <th>age</th>\n",
              "      <td>30162</td>\n",
              "      <td>38.437901995888865</td>\n",
              "      <td>13.134664776856017</td>\n",
              "      <td>17</td>\n",
              "      <td>90</td>\n",
              "    </tr>\n",
              "    <tr>\n",
              "      <th>education-num</th>\n",
              "      <td>30162</td>\n",
              "      <td>10.12131158411246</td>\n",
              "      <td>2.5499949188567355</td>\n",
              "      <td>1</td>\n",
              "      <td>16</td>\n",
              "    </tr>\n",
              "    <tr>\n",
              "      <th>hours-per-week</th>\n",
              "      <td>30162</td>\n",
              "      <td>40.93123798156621</td>\n",
              "      <td>11.97998422927489</td>\n",
              "      <td>1</td>\n",
              "      <td>99</td>\n",
              "    </tr>\n",
              "  </tbody>\n",
              "</table>\n",
              "</div>\n",
              "      <button class=\"colab-df-convert\" onclick=\"convertToInteractive('df-c8e4535c-dd1a-452b-b6a9-b666dd204fe9')\"\n",
              "              title=\"Convert this dataframe to an interactive table.\"\n",
              "              style=\"display:none;\">\n",
              "        \n",
              "  <svg xmlns=\"http://www.w3.org/2000/svg\" height=\"24px\"viewBox=\"0 0 24 24\"\n",
              "       width=\"24px\">\n",
              "    <path d=\"M0 0h24v24H0V0z\" fill=\"none\"/>\n",
              "    <path d=\"M18.56 5.44l.94 2.06.94-2.06 2.06-.94-2.06-.94-.94-2.06-.94 2.06-2.06.94zm-11 1L8.5 8.5l.94-2.06 2.06-.94-2.06-.94L8.5 2.5l-.94 2.06-2.06.94zm10 10l.94 2.06.94-2.06 2.06-.94-2.06-.94-.94-2.06-.94 2.06-2.06.94z\"/><path d=\"M17.41 7.96l-1.37-1.37c-.4-.4-.92-.59-1.43-.59-.52 0-1.04.2-1.43.59L10.3 9.45l-7.72 7.72c-.78.78-.78 2.05 0 2.83L4 21.41c.39.39.9.59 1.41.59.51 0 1.02-.2 1.41-.59l7.78-7.78 2.81-2.81c.8-.78.8-2.07 0-2.86zM5.41 20L4 18.59l7.72-7.72 1.47 1.35L5.41 20z\"/>\n",
              "  </svg>\n",
              "      </button>\n",
              "      \n",
              "  <style>\n",
              "    .colab-df-container {\n",
              "      display:flex;\n",
              "      flex-wrap:wrap;\n",
              "      gap: 12px;\n",
              "    }\n",
              "\n",
              "    .colab-df-convert {\n",
              "      background-color: #E8F0FE;\n",
              "      border: none;\n",
              "      border-radius: 50%;\n",
              "      cursor: pointer;\n",
              "      display: none;\n",
              "      fill: #1967D2;\n",
              "      height: 32px;\n",
              "      padding: 0 0 0 0;\n",
              "      width: 32px;\n",
              "    }\n",
              "\n",
              "    .colab-df-convert:hover {\n",
              "      background-color: #E2EBFA;\n",
              "      box-shadow: 0px 1px 2px rgba(60, 64, 67, 0.3), 0px 1px 3px 1px rgba(60, 64, 67, 0.15);\n",
              "      fill: #174EA6;\n",
              "    }\n",
              "\n",
              "    [theme=dark] .colab-df-convert {\n",
              "      background-color: #3B4455;\n",
              "      fill: #D2E3FC;\n",
              "    }\n",
              "\n",
              "    [theme=dark] .colab-df-convert:hover {\n",
              "      background-color: #434B5C;\n",
              "      box-shadow: 0px 1px 3px 1px rgba(0, 0, 0, 0.15);\n",
              "      filter: drop-shadow(0px 1px 2px rgba(0, 0, 0, 0.3));\n",
              "      fill: #FFFFFF;\n",
              "    }\n",
              "  </style>\n",
              "\n",
              "      <script>\n",
              "        const buttonEl =\n",
              "          document.querySelector('#df-c8e4535c-dd1a-452b-b6a9-b666dd204fe9 button.colab-df-convert');\n",
              "        buttonEl.style.display =\n",
              "          google.colab.kernel.accessAllowed ? 'block' : 'none';\n",
              "\n",
              "        async function convertToInteractive(key) {\n",
              "          const element = document.querySelector('#df-c8e4535c-dd1a-452b-b6a9-b666dd204fe9');\n",
              "          const dataTable =\n",
              "            await google.colab.kernel.invokeFunction('convertToInteractive',\n",
              "                                                     [key], {});\n",
              "          if (!dataTable) return;\n",
              "\n",
              "          const docLinkHtml = 'Like what you see? Visit the ' +\n",
              "            '<a target=\"_blank\" href=https://colab.research.google.com/notebooks/data_table.ipynb>data table notebook</a>'\n",
              "            + ' to learn more about interactive tables.';\n",
              "          element.innerHTML = '';\n",
              "          dataTable['output_type'] = 'display_data';\n",
              "          await google.colab.output.renderOutput(dataTable, element);\n",
              "          const docLink = document.createElement('div');\n",
              "          docLink.innerHTML = docLinkHtml;\n",
              "          element.appendChild(docLink);\n",
              "        }\n",
              "      </script>\n",
              "    </div>\n",
              "  </div>\n",
              "  "
            ]
          },
          "metadata": {},
          "execution_count": 18
        }
      ],
      "source": [
        "dropped_df = dropped_df.drop('RecordID')\n",
        "dropped_df.describe('age', 'education-num','hours-per-week').toPandas().transpose()"
      ]
    },
    {
      "cell_type": "code",
      "execution_count": 19,
      "metadata": {
        "colab": {
          "base_uri": "https://localhost:8080/"
        },
        "id": "0QLyBeSR6DQD",
        "outputId": "0e74f304-7639-4529-a6ac-7de2a2fb6184"
      },
      "outputs": [
        {
          "output_type": "stream",
          "name": "stdout",
          "text": [
            "root\n",
            " |-- age: integer (nullable = true)\n",
            " |-- workclass: string (nullable = true)\n",
            " |-- education: string (nullable = true)\n",
            " |-- education-num: integer (nullable = true)\n",
            " |-- marital-status: string (nullable = true)\n",
            " |-- occupation: string (nullable = true)\n",
            " |-- relationship: string (nullable = true)\n",
            " |-- race: string (nullable = true)\n",
            " |-- sex: string (nullable = true)\n",
            " |-- hours-per-week: integer (nullable = true)\n",
            " |-- country: string (nullable = true)\n",
            " |-- salary: string (nullable = true)\n",
            "\n"
          ]
        }
      ],
      "source": [
        "dropped_df.printSchema()"
      ]
    },
    {
      "cell_type": "code",
      "execution_count": 20,
      "metadata": {
        "id": "8O0WsyFj6DQE"
      },
      "outputs": [],
      "source": [
        "# Import the relevant packages.\n",
        "from pyspark.ml.feature import (VectorAssembler,VectorIndexer,OneHotEncoder,StringIndexer)\n",
        "\n",
        "# First create a string indexer which converts every string into a number, such as male = 0 and female = 1.\n",
        "# A number will be assigned to every category in the column.\n",
        "workclass_indexer = StringIndexer(inputCol='workclass',outputCol='workclassIndex')\n",
        "education_indexer = StringIndexer(inputCol='education',outputCol='educationIndex')\n",
        "marital_indexer = StringIndexer(inputCol='marital-status',outputCol='maritalIndex')\n",
        "occupation_indexer = StringIndexer(inputCol='occupation',outputCol='occupationIndex')\n",
        "relationship_indexer = StringIndexer(inputCol='relationship',outputCol='relationshipIndex')\n",
        "race_indexer = StringIndexer(inputCol='race',outputCol='raceIndex')\n",
        "sex_indexer = StringIndexer(inputCol='sex',outputCol='sexIndex')\n",
        "country_indexer = StringIndexer(inputCol='country',outputCol='countryIndex')\n",
        "salary_indexer = StringIndexer(inputCol='salary',outputCol='label')\n",
        "\n",
        "# Now we can one hot encode these numbers. This converts the various outputs into a single vector.\n",
        "# Multiple columns are collapsed into one. \n",
        "# This makes it easier to process when you have multiple classes.\n",
        "workclass_encoder = OneHotEncoder(inputCol='workclassIndex',outputCol='workclassVec')\n",
        "education_encoder = OneHotEncoder(inputCol='educationIndex',outputCol='educationVec')\n",
        "marital_encoder = OneHotEncoder(inputCol='maritalIndex',outputCol='maritalVec')\n",
        "occupation_encoder = OneHotEncoder(inputCol='occupationIndex',outputCol='occupationVec')\n",
        "relationship_encoder = OneHotEncoder(inputCol='relationshipIndex',outputCol='relationshipVec')\n",
        "race_encoder = OneHotEncoder(inputCol='raceIndex',outputCol='raceVec')\n",
        "sex_encoder = OneHotEncoder(inputCol='sexIndex',outputCol='sexVec')\n",
        "country_encoder = OneHotEncoder(inputCol='countryIndex',outputCol='countryVec')\n",
        "label_encoder = OneHotEncoder(inputCol='label',outputCol='label')\n",
        "\n",
        "# And finally, using vector assembler to turn all of these columns into one column (named features).\n",
        "assembler = VectorAssembler(inputCols=['workclassVec','educationVec','maritalVec','occupationVec',\n",
        "                                       'relationshipVec','raceVec','sexVec','countryVec',\n",
        "                                       'age', 'hours-per-week', 'education-num'], outputCol=\"features\")"
      ]
    },
    {
      "cell_type": "code",
      "execution_count": 21,
      "metadata": {
        "id": "2shhmZ1E6DQE"
      },
      "outputs": [],
      "source": [
        "## PIPELINE ##\n",
        "from pyspark.ml import Pipeline\n",
        "\n",
        "# Then go through our steps. It's essentially sequential to the above.\n",
        "pipeline = Pipeline(stages=[workclass_indexer,education_indexer,marital_indexer,occupation_indexer,relationship_indexer,\n",
        "                            race_indexer,sex_indexer,country_indexer,salary_indexer, workclass_encoder, education_encoder,marital_encoder, \n",
        "                            occupation_encoder, relationship_encoder, race_encoder, sex_encoder, country_encoder, assembler])\n",
        "\n",
        "# Now that we've got a number of steps, let's apply it to the DataFrame.\n",
        "pipeline_model = pipeline.fit(dropped_df)\n",
        "\n",
        "# Incorporate results into a new DataFrame.\n",
        "pipe_df = pipeline_model.transform(dropped_df)\n",
        "\n",
        "# Remove all variables other than features and label. \n",
        "pipe_df = pipe_df.select('label', 'features')"
      ]
    },
    {
      "cell_type": "code",
      "execution_count": 22,
      "metadata": {
        "colab": {
          "base_uri": "https://localhost:8080/"
        },
        "id": "t60kbJIW6DQF",
        "outputId": "f45fa035-c9c1-4e44-86f4-c670d52cadeb"
      },
      "outputs": [
        {
          "output_type": "execute_result",
          "data": {
            "text/plain": [
              "DataFrame[summary: string, label: string]"
            ]
          },
          "metadata": {},
          "execution_count": 22
        }
      ],
      "source": [
        "pipe_df.describe()"
      ]
    },
    {
      "cell_type": "markdown",
      "metadata": {
        "id": "UlI3NzRP6DQF"
      },
      "source": [
        "# Training and Testing Dataset Split"
      ]
    },
    {
      "cell_type": "code",
      "execution_count": 23,
      "metadata": {
        "colab": {
          "base_uri": "https://localhost:8080/"
        },
        "id": "XMtCY_tG6DQG",
        "outputId": "843dbf3a-a7f0-4030-a9b8-cc63480e7c0e"
      },
      "outputs": [
        {
          "output_type": "stream",
          "name": "stdout",
          "text": [
            "Training Dataset Count: 21089\n",
            "Test Dataset Count: 9073\n"
          ]
        }
      ],
      "source": [
        "## Split Data ##\n",
        "# Split our data. Note that the new DataFrame is being used.\n",
        "train_data, test_data = pipe_df.randomSplit([0.7,0.3])\n",
        "print(\"Training Dataset Count: \" + str(train_data.count()))\n",
        "print(\"Test Dataset Count: \" + str(test_data.count()))"
      ]
    },
    {
      "cell_type": "markdown",
      "metadata": {
        "id": "uJwTC1U-6DQG"
      },
      "source": [
        "# Random Forest"
      ]
    },
    {
      "cell_type": "code",
      "execution_count": 24,
      "metadata": {
        "colab": {
          "base_uri": "https://localhost:8080/"
        },
        "id": "wL6D5x1J6DQH",
        "outputId": "3deaab54-16e0-4edc-9841-55a67a0ef37d"
      },
      "outputs": [
        {
          "output_type": "stream",
          "name": "stdout",
          "text": [
            "Test set Accuracy = 0.8118593629450016\n",
            "Test set Precision = 0.8017344099193455\n",
            "Test set Recall = 0.7881176570303194\n"
          ]
        }
      ],
      "source": [
        "#Iteration 1\n",
        "from pyspark.ml.classification import *\n",
        "from pyspark.ml.evaluation import BinaryClassificationEvaluator\n",
        "from pyspark.ml.evaluation import MulticlassClassificationEvaluator\n",
        "\n",
        "rf = RandomForestClassifier(featuresCol = 'features', labelCol = 'label', numTrees=50)\n",
        "rfModel = rf.fit(train_data)\n",
        "predictions = rfModel.transform(test_data)\n",
        "\n",
        "\n",
        "evaluator1 = MulticlassClassificationEvaluator(labelCol=\"label\", predictionCol=\"prediction\",metricName=\"accuracy\")\n",
        "evaluator2 = MulticlassClassificationEvaluator(labelCol=\"label\", predictionCol=\"prediction\",metricName=\"weightedPrecision\")\n",
        "evaluator3 = MulticlassClassificationEvaluator(labelCol=\"label\", predictionCol=\"prediction\",metricName=\"f1\")\n",
        "accuracy = evaluator1.evaluate(predictions)\n",
        "precision = evaluator2.evaluate(predictions)\n",
        "recall = evaluator3.evaluate(predictions)\n",
        "\n",
        "print(\"Test set Accuracy = \" + str(accuracy))\n",
        "print(\"Test set Precision = \" + str(precision))\n",
        "print(\"Test set Recall = \" + str(recall))\n",
        "#print(\"Test set Recall = \" + str(recall))"
      ]
    },
    {
      "cell_type": "code",
      "execution_count": 25,
      "metadata": {
        "colab": {
          "base_uri": "https://localhost:8080/"
        },
        "id": "GJNmaYHf6DQI",
        "outputId": "7fb85efd-b460-4cae-edad-055ec703bc1d"
      },
      "outputs": [
        {
          "output_type": "stream",
          "name": "stdout",
          "text": [
            "Test set Accuracy = 0.8106469745398435\n",
            "Test set Precision = 0.8014672394987012\n",
            "Test set Recall = 0.7848126404601703\n"
          ]
        }
      ],
      "source": [
        "#Iteration 2\n",
        "\n",
        "from pyspark.ml.classification import *\n",
        "from pyspark.ml.evaluation import BinaryClassificationEvaluator\n",
        "from pyspark.ml.evaluation import MulticlassClassificationEvaluator\n",
        "\n",
        "rf = RandomForestClassifier(featuresCol = 'features', labelCol = 'label', numTrees=150)\n",
        "rfModel = rf.fit(train_data)\n",
        "predictions = rfModel.transform(test_data)\n",
        "\n",
        "#Evaluation\n",
        "evaluator1 = MulticlassClassificationEvaluator(labelCol=\"label\", predictionCol=\"prediction\",metricName=\"accuracy\")\n",
        "evaluator2 = MulticlassClassificationEvaluator(labelCol=\"label\", predictionCol=\"prediction\",metricName=\"weightedPrecision\")\n",
        "evaluator3 = MulticlassClassificationEvaluator(labelCol=\"label\", predictionCol=\"prediction\",metricName=\"f1\")\n",
        "accuracy = evaluator1.evaluate(predictions)\n",
        "precision = evaluator2.evaluate(predictions)\n",
        "recall = evaluator3.evaluate(predictions)\n",
        "\n",
        "print(\"Test set Accuracy = \" + str(accuracy))\n",
        "print(\"Test set Precision = \" + str(precision))\n",
        "print(\"Test set Recall = \" + str(recall))\n",
        "#print(\"Test set Recall = \" + str(recall))"
      ]
    },
    {
      "cell_type": "code",
      "execution_count": 26,
      "metadata": {
        "colab": {
          "base_uri": "https://localhost:8080/"
        },
        "id": "JALdUWp26DQJ",
        "outputId": "985fb387-a4ca-4c81-c52d-15afe50a8fbb"
      },
      "outputs": [
        {
          "output_type": "stream",
          "name": "stdout",
          "text": [
            "Test set Accuracy = 0.8109776259230684\n",
            "Test set Precision = 0.8018178451800747\n",
            "Test set Recall = 0.7853503810999376\n"
          ]
        }
      ],
      "source": [
        "#Iteration 3\n",
        "\n",
        "from pyspark.ml.classification import *\n",
        "from pyspark.ml.evaluation import BinaryClassificationEvaluator\n",
        "from pyspark.ml.evaluation import MulticlassClassificationEvaluator\n",
        "\n",
        "rf = RandomForestClassifier(featuresCol = 'features', labelCol = 'label', numTrees=300)\n",
        "rfModel = rf.fit(train_data)\n",
        "predictions = rfModel.transform(test_data)\n",
        "\n",
        "\n",
        "evaluator1 = MulticlassClassificationEvaluator(labelCol=\"label\", predictionCol=\"prediction\",metricName=\"accuracy\")\n",
        "evaluator2 = MulticlassClassificationEvaluator(labelCol=\"label\", predictionCol=\"prediction\",metricName=\"weightedPrecision\")\n",
        "evaluator3 = MulticlassClassificationEvaluator(labelCol=\"label\", predictionCol=\"prediction\",metricName=\"f1\")\n",
        "accuracy = evaluator1.evaluate(predictions)\n",
        "precision = evaluator2.evaluate(predictions)\n",
        "recall = evaluator3.evaluate(predictions)\n",
        "\n",
        "print(\"Test set Accuracy = \" + str(accuracy))\n",
        "print(\"Test set Precision = \" + str(precision))\n",
        "print(\"Test set Recall = \" + str(recall))\n",
        "#print(\"Test set Recall = \" + str(recall))"
      ]
    },
    {
      "cell_type": "code",
      "execution_count": 27,
      "metadata": {
        "id": "z4hDlhYb6DQK"
      },
      "outputs": [],
      "source": [
        "#predictions.select('age', 'job', 'label', 'rawPrediction', 'prediction', 'probability').show(10)\n",
        "#evaluator = BinaryClassificationEvaluator()\n",
        "#print(\"Test Area Under ROC: \" + str(evaluator.evaluate(predictions, {evaluator.metricName: \"areaUnderROC\"})))"
      ]
    },
    {
      "cell_type": "markdown",
      "metadata": {
        "id": "62SnrGXY6DQK"
      },
      "source": [
        "# Naive Bayesian"
      ]
    },
    {
      "cell_type": "code",
      "execution_count": 28,
      "metadata": {
        "colab": {
          "base_uri": "https://localhost:8080/"
        },
        "id": "ihcV3LHZ6DQL",
        "outputId": "7bc16a78-7c0e-4a98-83d9-5fc9ed1864d5"
      },
      "outputs": [
        {
          "output_type": "stream",
          "name": "stdout",
          "text": [
            "Test set Accuracy = 0.8013887358095448\n",
            "Test set Precision = 0.818425389121628\n",
            "Test set Recall = 0.8074438140096281\n"
          ]
        }
      ],
      "source": [
        "#Iteration 1\n",
        "from pyspark.ml.classification import NaiveBayes\n",
        "from pyspark.ml.evaluation import MulticlassClassificationEvaluator\n",
        "\n",
        "# create the trainer and set its parameters\n",
        "nb = NaiveBayes(smoothing=0.0, modelType=\"multinomial\")\n",
        "\n",
        "# train the model\n",
        "model = nb.fit(train_data)\n",
        "\n",
        "# select example rows to display.\n",
        "predictions = model.transform(test_data)\n",
        "#predictions.show()\n",
        "\n",
        "evaluator1 = MulticlassClassificationEvaluator(labelCol=\"label\", predictionCol=\"prediction\",metricName=\"accuracy\")\n",
        "evaluator2 = MulticlassClassificationEvaluator(labelCol=\"label\", predictionCol=\"prediction\",metricName=\"weightedPrecision\")\n",
        "evaluator3 = MulticlassClassificationEvaluator(labelCol=\"label\", predictionCol=\"prediction\",metricName=\"f1\")\n",
        "accuracy = evaluator1.evaluate(predictions)\n",
        "precision = evaluator2.evaluate(predictions)\n",
        "recall = evaluator3.evaluate(predictions)\n",
        "\n",
        "print(\"Test set Accuracy = \" + str(accuracy))\n",
        "print(\"Test set Precision = \" + str(precision))\n",
        "print(\"Test set Recall = \" + str(recall))"
      ]
    },
    {
      "cell_type": "code",
      "execution_count": 29,
      "metadata": {
        "colab": {
          "base_uri": "https://localhost:8080/"
        },
        "id": "AaJGE2Jh6DQM",
        "outputId": "e1e6022f-45af-4002-e51a-014ba9e8e900"
      },
      "outputs": [
        {
          "output_type": "stream",
          "name": "stdout",
          "text": [
            "<bound method Params.explainParams of NaiveBayesModel: uid=NaiveBayes_99ead4ad7c32, modelType=multinomial, numClasses=2, numFeatures=93>\n"
          ]
        }
      ],
      "source": [
        "print(model.explainParams)"
      ]
    },
    {
      "cell_type": "code",
      "execution_count": 30,
      "metadata": {
        "colab": {
          "base_uri": "https://localhost:8080/"
        },
        "id": "FcHPIKfO6DQM",
        "outputId": "20538d56-35df-4b37-bfd3-969b44f8d940"
      },
      "outputs": [
        {
          "output_type": "stream",
          "name": "stdout",
          "text": [
            "Test set Accuracy = 0.8017193871927698\n",
            "Test set Precision = 0.8186996559644866\n",
            "Test set Recall = 0.8077543273722431\n"
          ]
        }
      ],
      "source": [
        "#Iteration 2\n",
        "from pyspark.ml.classification import NaiveBayes\n",
        "from pyspark.ml.evaluation import MulticlassClassificationEvaluator\n",
        "\n",
        "# create the trainer and set its parameters\n",
        "nb = NaiveBayes(smoothing=1.0, modelType=\"multinomial\")\n",
        "\n",
        "# train the model\n",
        "model = nb.fit(train_data)\n",
        "\n",
        "# select example rows to display.\n",
        "predictions = model.transform(test_data)\n",
        "#predictions.show()\n",
        "\n",
        "evaluator1 = MulticlassClassificationEvaluator(labelCol=\"label\", predictionCol=\"prediction\",metricName=\"accuracy\")\n",
        "evaluator2 = MulticlassClassificationEvaluator(labelCol=\"label\", predictionCol=\"prediction\",metricName=\"weightedPrecision\")\n",
        "evaluator3 = MulticlassClassificationEvaluator(labelCol=\"label\", predictionCol=\"prediction\",metricName=\"f1\")\n",
        "accuracy = evaluator1.evaluate(predictions)\n",
        "precision = evaluator2.evaluate(predictions)\n",
        "recall = evaluator3.evaluate(predictions)\n",
        "\n",
        "print(\"Test set Accuracy = \" + str(accuracy))\n",
        "print(\"Test set Precision = \" + str(precision))\n",
        "print(\"Test set Recall = \" + str(recall))"
      ]
    },
    {
      "cell_type": "code",
      "execution_count": 31,
      "metadata": {
        "colab": {
          "base_uri": "https://localhost:8080/"
        },
        "id": "0xOLyjDs6DQN",
        "outputId": "21144680-9a85-4eed-ef2c-e9fcf3b5117f"
      },
      "outputs": [
        {
          "output_type": "stream",
          "name": "stdout",
          "text": [
            "Test set Accuracy = 0.8018296043205114\n",
            "Test set Precision = 0.81876469997587\n",
            "Test set Recall = 0.8078511297176039\n"
          ]
        }
      ],
      "source": [
        "#Iteration 3\n",
        "from pyspark.ml.classification import NaiveBayes\n",
        "from pyspark.ml.evaluation import MulticlassClassificationEvaluator\n",
        "\n",
        "# create the trainer and set its parameters\n",
        "nb = NaiveBayes(modelType=\"multinomial\", smoothing = 2.0)\n",
        "\n",
        "# train the model\n",
        "model = nb.fit(train_data)\n",
        "\n",
        "# select example rows to display.\n",
        "predictions = model.transform(test_data)\n",
        "#predictions.show()\n",
        "\n",
        "evaluator1 = MulticlassClassificationEvaluator(labelCol=\"label\", predictionCol=\"prediction\",metricName=\"accuracy\")\n",
        "evaluator2 = MulticlassClassificationEvaluator(labelCol=\"label\", predictionCol=\"prediction\",metricName=\"weightedPrecision\")\n",
        "evaluator3 = MulticlassClassificationEvaluator(labelCol=\"label\", predictionCol=\"prediction\",metricName=\"f1\")\n",
        "accuracy = evaluator1.evaluate(predictions)\n",
        "precision = evaluator2.evaluate(predictions)\n",
        "recall = evaluator3.evaluate(predictions)\n",
        "\n",
        "print(\"Test set Accuracy = \" + str(accuracy))\n",
        "print(\"Test set Precision = \" + str(precision))\n",
        "print(\"Test set Recall = \" + str(recall))"
      ]
    },
    {
      "cell_type": "markdown",
      "metadata": {
        "id": "vRUF99y16DQO"
      },
      "source": [
        "# Logistic Regression"
      ]
    },
    {
      "cell_type": "code",
      "execution_count": 32,
      "metadata": {
        "colab": {
          "base_uri": "https://localhost:8080/",
          "height": 576
        },
        "id": "FWNTzgAs6DQO",
        "outputId": "e6f6bb10-20fe-433a-f24c-6b1d6ebde24d"
      },
      "outputs": [
        {
          "output_type": "stream",
          "name": "stdout",
          "text": [
            "Training Dataset Count: 21130\n",
            "Test Dataset Count: 9032\n",
            "Test set Accuracy = 0.7556465899025686\n",
            "Test set Precision = 0.7705071413659608\n",
            "Test set Recall = 0.6567704079611529\n"
          ]
        },
        {
          "output_type": "display_data",
          "data": {
            "text/plain": [
              "<Figure size 640x480 with 1 Axes>"
            ],
            "image/png": "[encoded data removed]"
          },
          "metadata": {}
        },
        {
          "output_type": "stream",
          "name": "stdout",
          "text": [
            "Area Under the Curve: 0.8482429849463203\n"
          ]
        }
      ],
      "source": [
        "##Iteration1##\n",
        "from pyspark.ml.classification import LogisticRegression\n",
        "\n",
        "# Split our data. Note that the new DataFrame is being used.\n",
        "train_data, test_data = pipe_df.randomSplit([0.7,0.3])\n",
        "print(\"Training Dataset Count: \" + str(train_data.count()))\n",
        "print(\"Test Dataset Count: \" + str(test_data.count()))\n",
        "\n",
        "# Instantiate the model.\n",
        "lr_model = LogisticRegression(featuresCol='features',labelCol='label',maxIter=100, regParam=0.1, elasticNetParam=0.8)\n",
        "\n",
        "# Fit the model.\n",
        "lr_model = lr_model.fit(train_data)\n",
        "\n",
        "# And evaluate the model using the test data.\n",
        "predictions = lr_model.transform(test_data)\n",
        "\n",
        "evaluator1 = MulticlassClassificationEvaluator(labelCol=\"label\", predictionCol=\"prediction\",metricName=\"accuracy\")\n",
        "evaluator2 = MulticlassClassificationEvaluator(labelCol=\"label\", predictionCol=\"prediction\",metricName=\"weightedPrecision\")\n",
        "evaluator3 = MulticlassClassificationEvaluator(labelCol=\"label\", predictionCol=\"prediction\",metricName=\"f1\")\n",
        "accuracy = evaluator1.evaluate(predictions)\n",
        "precision = evaluator2.evaluate(predictions)\n",
        "recall = evaluator3.evaluate(predictions)\n",
        "\n",
        "print(\"Test set Accuracy = \" + str(accuracy))\n",
        "print(\"Test set Precision = \" + str(precision))\n",
        "print(\"Test set Recall = \" + str(recall))\n",
        "### ROC CURVE ###\n",
        "\n",
        "# Let's get a summary of the data.\n",
        "training_summary = lr_model.summary\n",
        "\n",
        "# Convert the DataFrame to a Pandas DataFrame.\n",
        "ROC = training_summary.roc.toPandas()\n",
        "\n",
        "# Plot the true positive and false positive rates.\n",
        "plt.plot(ROC['FPR'],ROC['TPR'])\n",
        "\n",
        "# Define the labels.\n",
        "plt.ylabel('True Positive Rate')\n",
        "plt.xlabel('False Positive Rate')\n",
        "plt.title('ROC Curve')\n",
        "plt.show()\n",
        "\n",
        "# Print the AUC statistic. \n",
        "print('Area Under the Curve: ' + str(training_summary.areaUnderROC))\n"
      ]
    },
    {
      "cell_type": "code",
      "execution_count": 33,
      "metadata": {
        "colab": {
          "base_uri": "https://localhost:8080/",
          "height": 576
        },
        "id": "oFFDrcQ-6DQP",
        "outputId": "a6da6894-9919-490e-ce9a-7054944e404e"
      },
      "outputs": [
        {
          "output_type": "stream",
          "name": "stdout",
          "text": [
            "Training Dataset Count: 21131\n",
            "Test Dataset Count: 9031\n",
            "Test set Accuracy = 0.8258221680876979\n",
            "Test set Precision = 0.8163855443355986\n",
            "Test set Recall = 0.8120035861581183\n"
          ]
        },
        {
          "output_type": "display_data",
          "data": {
            "text/plain": [
              "<Figure size 640x480 with 1 Axes>"
            ],
            "image/png": "[encoded data removed]"
          },
          "metadata": {}
        },
        {
          "output_type": "stream",
          "name": "stdout",
          "text": [
            "Area Under the Curve: 0.8857457400375521\n"
          ]
        }
      ],
      "source": [
        "##Iteration2##\n",
        "from pyspark.ml.classification import LogisticRegression\n",
        "\n",
        "# Split our data. Note that the new DataFrame is being used.\n",
        "train_data, test_data = pipe_df.randomSplit([0.7,0.3])\n",
        "print(\"Training Dataset Count: \" + str(train_data.count()))\n",
        "print(\"Test Dataset Count: \" + str(test_data.count()))\n",
        "\n",
        "# Instantiate the model.\n",
        "lr_model = LogisticRegression(featuresCol='features',labelCol='label',maxIter=200, regParam=0.1, elasticNetParam=0)\n",
        "\n",
        "# Fit the model.\n",
        "lr_model = lr_model.fit(train_data)\n",
        "\n",
        "# And evaluate the model using the test data.\n",
        "predictions = lr_model.transform(test_data)\n",
        "\n",
        "evaluator1 = MulticlassClassificationEvaluator(labelCol=\"label\", predictionCol=\"prediction\",metricName=\"accuracy\")\n",
        "evaluator2 = MulticlassClassificationEvaluator(labelCol=\"label\", predictionCol=\"prediction\",metricName=\"weightedPrecision\")\n",
        "evaluator3 = MulticlassClassificationEvaluator(labelCol=\"label\", predictionCol=\"prediction\",metricName=\"f1\")\n",
        "accuracy = evaluator1.evaluate(predictions)\n",
        "precision = evaluator2.evaluate(predictions)\n",
        "recall = evaluator3.evaluate(predictions)\n",
        "\n",
        "print(\"Test set Accuracy = \" + str(accuracy))\n",
        "print(\"Test set Precision = \" + str(precision))\n",
        "print(\"Test set Recall = \" + str(recall))\n",
        "### ROC CURVE ###\n",
        "\n",
        "# Let's get a summary of the data.\n",
        "training_summary = lr_model.summary\n",
        "\n",
        "# Convert the DataFrame to a Pandas DataFrame.\n",
        "ROC = training_summary.roc.toPandas()\n",
        "\n",
        "# Plot the true positive and false positive rates.\n",
        "plt.plot(ROC['FPR'],ROC['TPR'])\n",
        "\n",
        "# Define the labels.\n",
        "plt.ylabel('True Positive Rate')\n",
        "plt.xlabel('False Positive Rate')\n",
        "plt.title('ROC Curve')\n",
        "plt.show()\n",
        "\n",
        "# Print the AUC statistic. \n",
        "print('Area Under the Curve: ' + str(training_summary.areaUnderROC))"
      ]
    },
    {
      "cell_type": "code",
      "execution_count": 34,
      "metadata": {
        "colab": {
          "base_uri": "https://localhost:8080/",
          "height": 576
        },
        "id": "fInuoH_C6DQQ",
        "outputId": "72f36c38-38a9-4f92-b5ae-9fc14f4af4c6"
      },
      "outputs": [
        {
          "output_type": "stream",
          "name": "stdout",
          "text": [
            "Training Dataset Count: 21317\n",
            "Test Dataset Count: 8845\n",
            "Test set Accuracy = 0.8352741661955907\n",
            "Test set Precision = 0.8278821689206745\n",
            "Test set Recall = 0.8293264238056597\n"
          ]
        },
        {
          "output_type": "display_data",
          "data": {
            "text/plain": [
              "<Figure size 640x480 with 1 Axes>"
            ],
            "image/png": "[encoded data removed]"
          },
          "metadata": {}
        },
        {
          "output_type": "stream",
          "name": "stdout",
          "text": [
            "Area Under the Curve: 0.8865377416047511\n"
          ]
        }
      ],
      "source": [
        "##Iteration3##\n",
        "from pyspark.ml.classification import LogisticRegression\n",
        "\n",
        "# Split our data. Note that the new DataFrame is being used.\n",
        "train_data, test_data = pipe_df.randomSplit([0.7,0.3])\n",
        "print(\"Training Dataset Count: \" + str(train_data.count()))\n",
        "print(\"Test Dataset Count: \" + str(test_data.count()))\n",
        "\n",
        "# Instantiate the model.\n",
        "lr_model = LogisticRegression(featuresCol='features',labelCol='label', maxIter=100, regParam=0, elasticNetParam=0.8)\n",
        "\n",
        "# Fit the model.\n",
        "lr_model = lr_model.fit(train_data)\n",
        "\n",
        "# And evaluate the model using the test data.\n",
        "predictions = lr_model.transform(test_data)\n",
        "\n",
        "evaluator1 = MulticlassClassificationEvaluator(labelCol=\"label\", predictionCol=\"prediction\",metricName=\"accuracy\")\n",
        "evaluator2 = MulticlassClassificationEvaluator(labelCol=\"label\", predictionCol=\"prediction\",metricName=\"weightedPrecision\")\n",
        "evaluator3 = MulticlassClassificationEvaluator(labelCol=\"label\", predictionCol=\"prediction\",metricName=\"f1\")\n",
        "accuracy = evaluator1.evaluate(predictions)\n",
        "precision = evaluator2.evaluate(predictions)\n",
        "recall = evaluator3.evaluate(predictions)\n",
        "\n",
        "print(\"Test set Accuracy = \" + str(accuracy))\n",
        "print(\"Test set Precision = \" + str(precision))\n",
        "print(\"Test set Recall = \" + str(recall))\n",
        "### ROC CURVE ###\n",
        "\n",
        "# Let's get a summary of the data.\n",
        "training_summary = lr_model.summary\n",
        "\n",
        "# Convert the DataFrame to a Pandas DataFrame.\n",
        "ROC = training_summary.roc.toPandas()\n",
        "\n",
        "# Plot the true positive and false positive rates.\n",
        "plt.plot(ROC['FPR'],ROC['TPR'])\n",
        "\n",
        "# Define the labels.\n",
        "plt.ylabel('True Positive Rate')\n",
        "plt.xlabel('False Positive Rate')\n",
        "plt.title('ROC Curve')\n",
        "plt.show()\n",
        "\n",
        "# Print the AUC statistic. \n",
        "print('Area Under the Curve: ' + str(training_summary.areaUnderROC))"
      ]
    },
    {
      "cell_type": "markdown",
      "metadata": {
        "id": "WETTkgxX6DQR"
      },
      "source": [
        "# Interpretation"
      ]
    },
    {
      "cell_type": "code",
      "execution_count": 40,
      "metadata": {
        "id": "2wNFrsyG6DQR"
      },
      "outputs": [],
      "source": [
        "import pyspark\n",
        "from pyspark.sql import SparkSession\n",
        "from pyspark.sql.functions import *\n",
        "spark = SparkSession.builder.appName('basics').getOrCreate()\n",
        "import matplotlib.pyplot as plt\n",
        "import pandas as pd\n",
        "import seaborn as sns"
      ]
    },
    {
      "cell_type": "code",
      "execution_count": 41,
      "metadata": {
        "id": "QizaK33h6DQS"
      },
      "outputs": [],
      "source": [
        "df = pd.read_csv('Income.csv')"
      ]
    },
    {
      "cell_type": "code",
      "execution_count": 42,
      "metadata": {
        "colab": {
          "base_uri": "https://localhost:8080/"
        },
        "id": "E6PG3jM06DQS",
        "outputId": "42cceeff-3c56-41b8-8c46-06ceecdfaf5f"
      },
      "outputs": [
        {
          "output_type": "execute_result",
          "data": {
            "text/plain": [
              "RecordID             0\n",
              "age                  0\n",
              "workclass         1836\n",
              "fnlwgt               0\n",
              "education            0\n",
              "education-num        0\n",
              "marital-status       0\n",
              "occupation        1843\n",
              "relationship         0\n",
              "race                 0\n",
              "sex                  0\n",
              "capital-gain         0\n",
              "capital-loss         0\n",
              "hours-per-week       0\n",
              "country            583\n",
              "salary               0\n",
              "dtype: int64"
            ]
          },
          "metadata": {},
          "execution_count": 42
        }
      ],
      "source": [
        "df.isna().sum()"
      ]
    },
    {
      "cell_type": "code",
      "execution_count": 43,
      "metadata": {
        "id": "h-CylHCs6DQf"
      },
      "outputs": [],
      "source": [
        "df = df.dropna()"
      ]
    },
    {
      "cell_type": "code",
      "execution_count": 44,
      "metadata": {
        "id": "bc57ER1i6DQg"
      },
      "outputs": [],
      "source": [
        "df['salary']=df['salary'].map({'<=50K': 0, '>50K': 1, '<=50K.': 'No', '>50K.': 'Yes'})"
      ]
    },
    {
      "cell_type": "code",
      "execution_count": 45,
      "metadata": {
        "colab": {
          "base_uri": "https://localhost:8080/",
          "height": 378
        },
        "id": "hCQfM-px6DQg",
        "outputId": "44098d38-69c0-4162-8a3c-41c6d9bcf68f"
      },
      "outputs": [
        {
          "output_type": "execute_result",
          "data": {
            "text/plain": [
              "   RecordID  age         workclass  fnlwgt  education  education-num  \\\n",
              "0         1   39         State-gov   77516  Bachelors             13   \n",
              "1         2   50  Self-emp-not-inc   83311  Bachelors             13   \n",
              "2         3   38           Private  215646    HS-grad              9   \n",
              "3         4   53           Private  234721       11th              7   \n",
              "\n",
              "       marital-status         occupation   relationship   race   sex  \\\n",
              "0       Never-married       Adm-clerical  Not-in-family  White  Male   \n",
              "1  Married-civ-spouse    Exec-managerial        Husband  White  Male   \n",
              "2            Divorced  Handlers-cleaners  Not-in-family  White  Male   \n",
              "3  Married-civ-spouse  Handlers-cleaners        Husband  Black  Male   \n",
              "\n",
              "   capital-gain  capital-loss  hours-per-week        country salary  \n",
              "0          2174             0              40  United-States      0  \n",
              "1             0             0              13  United-States      0  \n",
              "2             0             0              40  United-States      0  \n",
              "3             0             0              40  United-States      0  "
            ],
            "text/html": [
              "\n",
              "  <div id=\"df-bf90da7b-77ab-470b-ad28-95a8a2a490a3\">\n",
              "    <div class=\"colab-df-container\">\n",
              "      <div>\n",
              "<style scoped>\n",
              "    .dataframe tbody tr th:only-of-type {\n",
              "        vertical-align: middle;\n",
              "    }\n",
              "\n",
              "    .dataframe tbody tr th {\n",
              "        vertical-align: top;\n",
              "    }\n",
              "\n",
              "    .dataframe thead th {\n",
              "        text-align: right;\n",
              "    }\n",
              "</style>\n",
              "<table border=\"1\" class=\"dataframe\">\n",
              "  <thead>\n",
              "    <tr style=\"text-align: right;\">\n",
              "      <th></th>\n",
              "      <th>RecordID</th>\n",
              "      <th>age</th>\n",
              "      <th>workclass</th>\n",
              "      <th>fnlwgt</th>\n",
              "      <th>education</th>\n",
              "      <th>education-num</th>\n",
              "      <th>marital-status</th>\n",
              "      <th>occupation</th>\n",
              "      <th>relationship</th>\n",
              "      <th>race</th>\n",
              "      <th>sex</th>\n",
              "      <th>capital-gain</th>\n",
              "      <th>capital-loss</th>\n",
              "      <th>hours-per-week</th>\n",
              "      <th>country</th>\n",
              "      <th>salary</th>\n",
              "    </tr>\n",
              "  </thead>\n",
              "  <tbody>\n",
              "    <tr>\n",
              "      <th>0</th>\n",
              "      <td>1</td>\n",
              "      <td>39</td>\n",
              "      <td>State-gov</td>\n",
              "      <td>77516</td>\n",
              "      <td>Bachelors</td>\n",
              "      <td>13</td>\n",
              "      <td>Never-married</td>\n",
              "      <td>Adm-clerical</td>\n",
              "      <td>Not-in-family</td>\n",
              "      <td>White</td>\n",
              "      <td>Male</td>\n",
              "      <td>2174</td>\n",
              "      <td>0</td>\n",
              "      <td>40</td>\n",
              "      <td>United-States</td>\n",
              "      <td>0</td>\n",
              "    </tr>\n",
              "    <tr>\n",
              "      <th>1</th>\n",
              "      <td>2</td>\n",
              "      <td>50</td>\n",
              "      <td>Self-emp-not-inc</td>\n",
              "      <td>83311</td>\n",
              "      <td>Bachelors</td>\n",
              "      <td>13</td>\n",
              "      <td>Married-civ-spouse</td>\n",
              "      <td>Exec-managerial</td>\n",
              "      <td>Husband</td>\n",
              "      <td>White</td>\n",
              "      <td>Male</td>\n",
              "      <td>0</td>\n",
              "      <td>0</td>\n",
              "      <td>13</td>\n",
              "      <td>United-States</td>\n",
              "      <td>0</td>\n",
              "    </tr>\n",
              "    <tr>\n",
              "      <th>2</th>\n",
              "      <td>3</td>\n",
              "      <td>38</td>\n",
              "      <td>Private</td>\n",
              "      <td>215646</td>\n",
              "      <td>HS-grad</td>\n",
              "      <td>9</td>\n",
              "      <td>Divorced</td>\n",
              "      <td>Handlers-cleaners</td>\n",
              "      <td>Not-in-family</td>\n",
              "      <td>White</td>\n",
              "      <td>Male</td>\n",
              "      <td>0</td>\n",
              "      <td>0</td>\n",
              "      <td>40</td>\n",
              "      <td>United-States</td>\n",
              "      <td>0</td>\n",
              "    </tr>\n",
              "    <tr>\n",
              "      <th>3</th>\n",
              "      <td>4</td>\n",
              "      <td>53</td>\n",
              "      <td>Private</td>\n",
              "      <td>234721</td>\n",
              "      <td>11th</td>\n",
              "      <td>7</td>\n",
              "      <td>Married-civ-spouse</td>\n",
              "      <td>Handlers-cleaners</td>\n",
              "      <td>Husband</td>\n",
              "      <td>Black</td>\n",
              "      <td>Male</td>\n",
              "      <td>0</td>\n",
              "      <td>0</td>\n",
              "      <td>40</td>\n",
              "      <td>United-States</td>\n",
              "      <td>0</td>\n",
              "    </tr>\n",
              "  </tbody>\n",
              "</table>\n",
              "</div>\n",
              "      <button class=\"colab-df-convert\" onclick=\"convertToInteractive('df-bf90da7b-77ab-470b-ad28-95a8a2a490a3')\"\n",
              "              title=\"Convert this dataframe to an interactive table.\"\n",
              "              style=\"display:none;\">\n",
              "        \n",
              "  <svg xmlns=\"http://www.w3.org/2000/svg\" height=\"24px\"viewBox=\"0 0 24 24\"\n",
              "       width=\"24px\">\n",
              "    <path d=\"M0 0h24v24H0V0z\" fill=\"none\"/>\n",
              "    <path d=\"M18.56 5.44l.94 2.06.94-2.06 2.06-.94-2.06-.94-.94-2.06-.94 2.06-2.06.94zm-11 1L8.5 8.5l.94-2.06 2.06-.94-2.06-.94L8.5 2.5l-.94 2.06-2.06.94zm10 10l.94 2.06.94-2.06 2.06-.94-2.06-.94-.94-2.06-.94 2.06-2.06.94z\"/><path d=\"M17.41 7.96l-1.37-1.37c-.4-.4-.92-.59-1.43-.59-.52 0-1.04.2-1.43.59L10.3 9.45l-7.72 7.72c-.78.78-.78 2.05 0 2.83L4 21.41c.39.39.9.59 1.41.59.51 0 1.02-.2 1.41-.59l7.78-7.78 2.81-2.81c.8-.78.8-2.07 0-2.86zM5.41 20L4 18.59l7.72-7.72 1.47 1.35L5.41 20z\"/>\n",
              "  </svg>\n",
              "      </button>\n",
              "      \n",
              "  <style>\n",
              "    .colab-df-container {\n",
              "      display:flex;\n",
              "      flex-wrap:wrap;\n",
              "      gap: 12px;\n",
              "    }\n",
              "\n",
              "    .colab-df-convert {\n",
              "      background-color: #E8F0FE;\n",
              "      border: none;\n",
              "      border-radius: 50%;\n",
              "      cursor: pointer;\n",
              "      display: none;\n",
              "      fill: #1967D2;\n",
              "      height: 32px;\n",
              "      padding: 0 0 0 0;\n",
              "      width: 32px;\n",
              "    }\n",
              "\n",
              "    .colab-df-convert:hover {\n",
              "      background-color: #E2EBFA;\n",
              "      box-shadow: 0px 1px 2px rgba(60, 64, 67, 0.3), 0px 1px 3px 1px rgba(60, 64, 67, 0.15);\n",
              "      fill: #174EA6;\n",
              "    }\n",
              "\n",
              "    [theme=dark] .colab-df-convert {\n",
              "      background-color: #3B4455;\n",
              "      fill: #D2E3FC;\n",
              "    }\n",
              "\n",
              "    [theme=dark] .colab-df-convert:hover {\n",
              "      background-color: #434B5C;\n",
              "      box-shadow: 0px 1px 3px 1px rgba(0, 0, 0, 0.15);\n",
              "      filter: drop-shadow(0px 1px 2px rgba(0, 0, 0, 0.3));\n",
              "      fill: #FFFFFF;\n",
              "    }\n",
              "  </style>\n",
              "\n",
              "      <script>\n",
              "        const buttonEl =\n",
              "          document.querySelector('#df-bf90da7b-77ab-470b-ad28-95a8a2a490a3 button.colab-df-convert');\n",
              "        buttonEl.style.display =\n",
              "          google.colab.kernel.accessAllowed ? 'block' : 'none';\n",
              "\n",
              "        async function convertToInteractive(key) {\n",
              "          const element = document.querySelector('#df-bf90da7b-77ab-470b-ad28-95a8a2a490a3');\n",
              "          const dataTable =\n",
              "            await google.colab.kernel.invokeFunction('convertToInteractive',\n",
              "                                                     [key], {});\n",
              "          if (!dataTable) return;\n",
              "\n",
              "          const docLinkHtml = 'Like what you see? Visit the ' +\n",
              "            '<a target=\"_blank\" href=https://colab.research.google.com/notebooks/data_table.ipynb>data table notebook</a>'\n",
              "            + ' to learn more about interactive tables.';\n",
              "          element.innerHTML = '';\n",
              "          dataTable['output_type'] = 'display_data';\n",
              "          await google.colab.output.renderOutput(dataTable, element);\n",
              "          const docLink = document.createElement('div');\n",
              "          docLink.innerHTML = docLinkHtml;\n",
              "          element.appendChild(docLink);\n",
              "        }\n",
              "      </script>\n",
              "    </div>\n",
              "  </div>\n",
              "  "
            ]
          },
          "metadata": {},
          "execution_count": 45
        }
      ],
      "source": [
        "df.head(4)"
      ]
    },
    {
      "cell_type": "code",
      "execution_count": 46,
      "metadata": {
        "id": "9WsQF5AW6DQh"
      },
      "outputs": [],
      "source": [
        "female = df[df.sex == 'Female']\n",
        "male = df[df.sex == 'Male']"
      ]
    },
    {
      "cell_type": "code",
      "execution_count": 47,
      "metadata": {
        "id": "QK9V0Sjg6DQi"
      },
      "outputs": [],
      "source": [
        "# Identify Numeric features\n",
        "numeric_features = ['age','education-num','hours-per-week','salary']\n",
        "\n",
        "# Identify Categorical features\n",
        "cat_features = ['workclass','education','marital-status', 'occupation', 'relationship', 'race', 'sex', 'native']"
      ]
    },
    {
      "cell_type": "code",
      "execution_count": 48,
      "metadata": {
        "colab": {
          "base_uri": "https://localhost:8080/",
          "height": 447
        },
        "id": "vlBzcRpE6DQi",
        "outputId": "44b89ec1-c468-4fb4-e912-cc246d2286b9"
      },
      "outputs": [
        {
          "output_type": "execute_result",
          "data": {
            "text/plain": [
              "<Axes: ylabel='count'>"
            ]
          },
          "metadata": {},
          "execution_count": 48
        },
        {
          "output_type": "display_data",
          "data": {
            "text/plain": [
              "<Figure size 640x480 with 1 Axes>"
            ],
            "image/png": "[encoded data removed]"
          },
          "metadata": {}
        }
      ],
      "source": [
        "sns.countplot(df['salary'],label=\"Count\")"
      ]
    },
    {
      "cell_type": "code",
      "source": [
        "female.head(2)"
      ],
      "metadata": {
        "id": "--ggMjNWynqj",
        "outputId": "78b388de-2dc5-47fd-b266-74764c679df1",
        "colab": {
          "base_uri": "https://localhost:8080/",
          "height": 280
        }
      },
      "execution_count": 57,
      "outputs": [
        {
          "output_type": "execute_result",
          "data": {
            "text/plain": [
              "   RecordID  age workclass  fnlwgt  education  education-num  \\\n",
              "4         5   28   Private  338409  Bachelors             13   \n",
              "5         6   37   Private  284582    Masters             14   \n",
              "\n",
              "       marital-status       occupation relationship   race     sex  \\\n",
              "4  Married-civ-spouse   Prof-specialty         Wife  Black  Female   \n",
              "5  Married-civ-spouse  Exec-managerial         Wife  White  Female   \n",
              "\n",
              "   capital-gain  capital-loss  hours-per-week        country salary  \n",
              "4             0             0              40           Cuba      0  \n",
              "5             0             0              40  United-States      0  "
            ],
            "text/html": [
              "\n",
              "  <div id=\"df-0f30af2f-bd23-4ece-aacb-58b01dafa117\">\n",
              "    <div class=\"colab-df-container\">\n",
              "      <div>\n",
              "<style scoped>\n",
              "    .dataframe tbody tr th:only-of-type {\n",
              "        vertical-align: middle;\n",
              "    }\n",
              "\n",
              "    .dataframe tbody tr th {\n",
              "        vertical-align: top;\n",
              "    }\n",
              "\n",
              "    .dataframe thead th {\n",
              "        text-align: right;\n",
              "    }\n",
              "</style>\n",
              "<table border=\"1\" class=\"dataframe\">\n",
              "  <thead>\n",
              "    <tr style=\"text-align: right;\">\n",
              "      <th></th>\n",
              "      <th>RecordID</th>\n",
              "      <th>age</th>\n",
              "      <th>workclass</th>\n",
              "      <th>fnlwgt</th>\n",
              "      <th>education</th>\n",
              "      <th>education-num</th>\n",
              "      <th>marital-status</th>\n",
              "      <th>occupation</th>\n",
              "      <th>relationship</th>\n",
              "      <th>race</th>\n",
              "      <th>sex</th>\n",
              "      <th>capital-gain</th>\n",
              "      <th>capital-loss</th>\n",
              "      <th>hours-per-week</th>\n",
              "      <th>country</th>\n",
              "      <th>salary</th>\n",
              "    </tr>\n",
              "  </thead>\n",
              "  <tbody>\n",
              "    <tr>\n",
              "      <th>4</th>\n",
              "      <td>5</td>\n",
              "      <td>28</td>\n",
              "      <td>Private</td>\n",
              "      <td>338409</td>\n",
              "      <td>Bachelors</td>\n",
              "      <td>13</td>\n",
              "      <td>Married-civ-spouse</td>\n",
              "      <td>Prof-specialty</td>\n",
              "      <td>Wife</td>\n",
              "      <td>Black</td>\n",
              "      <td>Female</td>\n",
              "      <td>0</td>\n",
              "      <td>0</td>\n",
              "      <td>40</td>\n",
              "      <td>Cuba</td>\n",
              "      <td>0</td>\n",
              "    </tr>\n",
              "    <tr>\n",
              "      <th>5</th>\n",
              "      <td>6</td>\n",
              "      <td>37</td>\n",
              "      <td>Private</td>\n",
              "      <td>284582</td>\n",
              "      <td>Masters</td>\n",
              "      <td>14</td>\n",
              "      <td>Married-civ-spouse</td>\n",
              "      <td>Exec-managerial</td>\n",
              "      <td>Wife</td>\n",
              "      <td>White</td>\n",
              "      <td>Female</td>\n",
              "      <td>0</td>\n",
              "      <td>0</td>\n",
              "      <td>40</td>\n",
              "      <td>United-States</td>\n",
              "      <td>0</td>\n",
              "    </tr>\n",
              "  </tbody>\n",
              "</table>\n",
              "</div>\n",
              "      <button class=\"colab-df-convert\" onclick=\"convertToInteractive('df-0f30af2f-bd23-4ece-aacb-58b01dafa117')\"\n",
              "              title=\"Convert this dataframe to an interactive table.\"\n",
              "              style=\"display:none;\">\n",
              "        \n",
              "  <svg xmlns=\"http://www.w3.org/2000/svg\" height=\"24px\"viewBox=\"0 0 24 24\"\n",
              "       width=\"24px\">\n",
              "    <path d=\"M0 0h24v24H0V0z\" fill=\"none\"/>\n",
              "    <path d=\"M18.56 5.44l.94 2.06.94-2.06 2.06-.94-2.06-.94-.94-2.06-.94 2.06-2.06.94zm-11 1L8.5 8.5l.94-2.06 2.06-.94-2.06-.94L8.5 2.5l-.94 2.06-2.06.94zm10 10l.94 2.06.94-2.06 2.06-.94-2.06-.94-.94-2.06-.94 2.06-2.06.94z\"/><path d=\"M17.41 7.96l-1.37-1.37c-.4-.4-.92-.59-1.43-.59-.52 0-1.04.2-1.43.59L10.3 9.45l-7.72 7.72c-.78.78-.78 2.05 0 2.83L4 21.41c.39.39.9.59 1.41.59.51 0 1.02-.2 1.41-.59l7.78-7.78 2.81-2.81c.8-.78.8-2.07 0-2.86zM5.41 20L4 18.59l7.72-7.72 1.47 1.35L5.41 20z\"/>\n",
              "  </svg>\n",
              "      </button>\n",
              "      \n",
              "  <style>\n",
              "    .colab-df-container {\n",
              "      display:flex;\n",
              "      flex-wrap:wrap;\n",
              "      gap: 12px;\n",
              "    }\n",
              "\n",
              "    .colab-df-convert {\n",
              "      background-color: #E8F0FE;\n",
              "      border: none;\n",
              "      border-radius: 50%;\n",
              "      cursor: pointer;\n",
              "      display: none;\n",
              "      fill: #1967D2;\n",
              "      height: 32px;\n",
              "      padding: 0 0 0 0;\n",
              "      width: 32px;\n",
              "    }\n",
              "\n",
              "    .colab-df-convert:hover {\n",
              "      background-color: #E2EBFA;\n",
              "      box-shadow: 0px 1px 2px rgba(60, 64, 67, 0.3), 0px 1px 3px 1px rgba(60, 64, 67, 0.15);\n",
              "      fill: #174EA6;\n",
              "    }\n",
              "\n",
              "    [theme=dark] .colab-df-convert {\n",
              "      background-color: #3B4455;\n",
              "      fill: #D2E3FC;\n",
              "    }\n",
              "\n",
              "    [theme=dark] .colab-df-convert:hover {\n",
              "      background-color: #434B5C;\n",
              "      box-shadow: 0px 1px 3px 1px rgba(0, 0, 0, 0.15);\n",
              "      filter: drop-shadow(0px 1px 2px rgba(0, 0, 0, 0.3));\n",
              "      fill: #FFFFFF;\n",
              "    }\n",
              "  </style>\n",
              "\n",
              "      <script>\n",
              "        const buttonEl =\n",
              "          document.querySelector('#df-0f30af2f-bd23-4ece-aacb-58b01dafa117 button.colab-df-convert');\n",
              "        buttonEl.style.display =\n",
              "          google.colab.kernel.accessAllowed ? 'block' : 'none';\n",
              "\n",
              "        async function convertToInteractive(key) {\n",
              "          const element = document.querySelector('#df-0f30af2f-bd23-4ece-aacb-58b01dafa117');\n",
              "          const dataTable =\n",
              "            await google.colab.kernel.invokeFunction('convertToInteractive',\n",
              "                                                     [key], {});\n",
              "          if (!dataTable) return;\n",
              "\n",
              "          const docLinkHtml = 'Like what you see? Visit the ' +\n",
              "            '<a target=\"_blank\" href=https://colab.research.google.com/notebooks/data_table.ipynb>data table notebook</a>'\n",
              "            + ' to learn more about interactive tables.';\n",
              "          element.innerHTML = '';\n",
              "          dataTable['output_type'] = 'display_data';\n",
              "          await google.colab.output.renderOutput(dataTable, element);\n",
              "          const docLink = document.createElement('div');\n",
              "          docLink.innerHTML = docLinkHtml;\n",
              "          element.appendChild(docLink);\n",
              "        }\n",
              "      </script>\n",
              "    </div>\n",
              "  </div>\n",
              "  "
            ]
          },
          "metadata": {},
          "execution_count": 57
        }
      ]
    },
    {
      "cell_type": "code",
      "execution_count": 78,
      "metadata": {
        "colab": {
          "base_uri": "https://localhost:8080/",
          "height": 689
        },
        "id": "SApN0sax6DQk",
        "outputId": "fd5d6d56-dbf6-4faf-fd43-9103766f76d1"
      },
      "outputs": [
        {
          "output_type": "stream",
          "name": "stderr",
          "text": [
            "/usr/local/lib/python3.10/dist-packages/seaborn/axisgrid.py:848: UserWarning: \n",
            "\n",
            "`distplot` is a deprecated function and will be removed in seaborn v0.14.0.\n",
            "\n",
            "Please adapt your code to use either `displot` (a figure-level function with\n",
            "similar flexibility) or `histplot` (an axes-level function for histograms).\n",
            "\n",
            "For a guide to updating your code to use the new functions, please see\n",
            "https://gist.github.com/mwaskom/de44147ed2974457ad6372750bbe5751\n",
            "\n",
            "  func(*plot_args, **plot_kwargs)\n",
            "/usr/local/lib/python3.10/dist-packages/seaborn/axisgrid.py:848: UserWarning: \n",
            "\n",
            "`distplot` is a deprecated function and will be removed in seaborn v0.14.0.\n",
            "\n",
            "Please adapt your code to use either `displot` (a figure-level function with\n",
            "similar flexibility) or `histplot` (an axes-level function for histograms).\n",
            "\n",
            "For a guide to updating your code to use the new functions, please see\n",
            "https://gist.github.com/mwaskom/de44147ed2974457ad6372750bbe5751\n",
            "\n",
            "  func(*plot_args, **plot_kwargs)\n"
          ]
        },
        {
          "output_type": "display_data",
          "data": {
            "text/plain": [
              "<Figure size 600x300 with 2 Axes>"
            ],
            "image/png": "[encoded data removed]"
          },
          "metadata": {}
        }
      ],
      "source": [
        "# Explore Age vs Income\n",
        "g = sns.FacetGrid(female, col='salary')\n",
        "g = g.map(sns.distplot, \"age\")"
      ]
    },
    {
      "cell_type": "code",
      "execution_count": 80,
      "metadata": {
        "colab": {
          "base_uri": "https://localhost:8080/",
          "height": 524
        },
        "id": "1EWIi-n96DQm",
        "outputId": "5495c325-6f73-4b6f-92cb-b65f50537679"
      },
      "outputs": [
        {
          "output_type": "execute_result",
          "data": {
            "text/plain": [
              "<seaborn.axisgrid.FacetGrid at 0x7f44771d49a0>"
            ]
          },
          "metadata": {},
          "execution_count": 80
        },
        {
          "output_type": "display_data",
          "data": {
            "text/plain": [
              "<Figure size 500x500 with 1 Axes>"
            ],
            "image/png": "[encoded data removed]"
          },
          "metadata": {}
        }
      ],
      "source": [
        "sns.catplot(x=\"education-num\", y=\"salary\", data=female, kind=\"bar\")\n",
        "# g.despine(left=True)\n",
        "# g = g.set_ylabels(\"Percentage Over 50K Income - Female\")"
      ]
    },
    {
      "cell_type": "code",
      "execution_count": 81,
      "metadata": {
        "colab": {
          "base_uri": "https://localhost:8080/",
          "height": 506
        },
        "id": "m1Hfiqt86DQn",
        "outputId": "91def0bd-057d-4afc-80df-0a5055e3b406"
      },
      "outputs": [
        {
          "output_type": "display_data",
          "data": {
            "text/plain": [
              "<Figure size 500x500 with 1 Axes>"
            ],
            "image/png": "[encoded data removed]"
          },
          "metadata": {}
        }
      ],
      "source": [
        "g = sns.catplot(x=\"education-num\", y=\"salary\", data=male, kind=\"bar\")\n",
        "g.despine(left=True)\n",
        "g = g.set_ylabels(\"Percentage Over 50K Income - Male\")"
      ]
    },
    {
      "cell_type": "code",
      "execution_count": 88,
      "metadata": {
        "scrolled": false,
        "colab": {
          "base_uri": "https://localhost:8080/",
          "height": 508
        },
        "id": "_97TvWHU6DQq",
        "outputId": "e03a4747-f4fd-411f-864f-f3d6f1905583"
      },
      "outputs": [
        {
          "output_type": "display_data",
          "data": {
            "text/plain": [
              "<Figure size 500x500 with 1 Axes>"
            ],
            "image/png": "[encoded data removed]"
          },
          "metadata": {}
        }
      ],
      "source": [
        "sns.set(font_scale=0.8)\n",
        "g = sns.catplot(x=\"marital-status\",y=\"salary\", data=df)\n",
        "g.despine(left=True)\n",
        "g = g.set_ylabels(\"Average Education Years\")"
      ]
    },
    {
      "cell_type": "markdown",
      "metadata": {
        "id": "cToFrEce6DQq"
      },
      "source": [
        "# Feature Importance"
      ]
    },
    {
      "cell_type": "code",
      "execution_count": 89,
      "metadata": {
        "id": "zmRohYE66DQr"
      },
      "outputs": [],
      "source": [
        "# Import the relevant packages.\n",
        "from pyspark.ml.feature import (VectorAssembler,VectorIndexer,OneHotEncoder,StringIndexer)\n",
        "\n",
        "# First create a string indexer which converts every string into a number, such as male = 0 and female = 1.\n",
        "# A number will be assigned to every category in the column.\n",
        "workclass_indexer = StringIndexer(inputCol='workclass',outputCol='workclassIndex')\n",
        "education_indexer = StringIndexer(inputCol='education',outputCol='educationIndex')\n",
        "marital_indexer = StringIndexer(inputCol='marital-status',outputCol='maritalIndex')\n",
        "occupation_indexer = StringIndexer(inputCol='occupation',outputCol='occupationIndex')\n",
        "#relationship_indexer = StringIndexer(inputCol='relationship',outputCol='relationshipIndex')\n",
        "race_indexer = StringIndexer(inputCol='race',outputCol='raceIndex')\n",
        "sex_indexer = StringIndexer(inputCol='sex',outputCol='sexIndex')\n",
        "country_indexer = StringIndexer(inputCol='country',outputCol='countryIndex')\n",
        "salary_indexer = StringIndexer(inputCol='salary',outputCol='label')\n",
        "\n",
        "# Now we can one hot encode these numbers. This converts the various outputs into a single vector.\n",
        "# Multiple columns are collapsed into one. \n",
        "# This makes it easier to process when you have multiple classes.\n",
        "workclass_encoder = OneHotEncoder(inputCol='workclassIndex',outputCol='workclassVec')\n",
        "education_encoder = OneHotEncoder(inputCol='educationIndex',outputCol='educationVec')\n",
        "marital_encoder = OneHotEncoder(inputCol='maritalIndex',outputCol='maritalVec')\n",
        "occupation_encoder = OneHotEncoder(inputCol='occupationIndex',outputCol='occupationVec')\n",
        "#relationship_encoder = OneHotEncoder(inputCol='relationshipIndex',outputCol='relationshipVec')\n",
        "race_encoder = OneHotEncoder(inputCol='raceIndex',outputCol='raceVec')\n",
        "sex_encoder = OneHotEncoder(inputCol='sexIndex',outputCol='sexVec')\n",
        "country_encoder = OneHotEncoder(inputCol='countryIndex',outputCol='countryVec')\n",
        "label_encoder = OneHotEncoder(inputCol='label',outputCol='label')\n",
        "\n",
        "#,'relationshipVec'\n",
        "# And finally, using vector assembler to turn all of these columns into one column (named features).\n",
        "assembler = VectorAssembler(inputCols=['workclassVec','educationVec','maritalVec','occupationVec',\n",
        "                                       'raceVec','sexVec','countryVec',\n",
        "                                       'age', 'hours-per-week', 'education-num'], outputCol=\"features\")"
      ]
    },
    {
      "cell_type": "code",
      "execution_count": 90,
      "metadata": {
        "id": "JHi20-dk6DQr"
      },
      "outputs": [],
      "source": [
        "## PIPELINE ##\n",
        "from pyspark.ml import Pipeline\n",
        "\n",
        "#relationship_encoder,\n",
        "# Then go through our steps. It's essentially sequential to the above.\n",
        "pipeline = Pipeline(stages=[workclass_indexer,education_indexer,marital_indexer,relationship_indexer,\n",
        "                            race_indexer,sex_indexer,occupation_indexer, country_indexer,salary_indexer, workclass_encoder, education_encoder,marital_encoder, \n",
        "                            race_encoder, sex_encoder, occupation_encoder, country_encoder, assembler])\n",
        "\n",
        "# Now that we've got a number of steps, let's apply it to the DataFrame.\n",
        "pipeline_model = pipeline.fit(dropped_df)\n",
        "\n",
        "# Incorporate results into a new DataFrame.\n",
        "pipe_df = pipeline_model.transform(dropped_df)\n",
        "\n",
        "# Remove all variables other than features and label. \n",
        "pipe_df = pipe_df.select('label', 'features')"
      ]
    },
    {
      "cell_type": "code",
      "execution_count": 91,
      "metadata": {
        "colab": {
          "base_uri": "https://localhost:8080/"
        },
        "id": "dnvbjtTf6DQs",
        "outputId": "2ca6d935-ffac-47d1-a178-1ec486a2289c"
      },
      "outputs": [
        {
          "output_type": "stream",
          "name": "stdout",
          "text": [
            "Training Dataset Count: 21050\n",
            "Test Dataset Count: 9112\n"
          ]
        }
      ],
      "source": [
        "## Split Data ##\n",
        "# Split our data. Note that the new DataFrame is being used.\n",
        "train_data, test_data = pipe_df.randomSplit([0.7,0.3])\n",
        "print(\"Training Dataset Count: \" + str(train_data.count()))\n",
        "print(\"Test Dataset Count: \" + str(test_data.count()))"
      ]
    },
    {
      "cell_type": "code",
      "execution_count": 92,
      "metadata": {
        "colab": {
          "base_uri": "https://localhost:8080/"
        },
        "id": "EQ4vkTRj6DQt",
        "outputId": "1cc5acfd-abdb-431f-c110-05c39867f581"
      },
      "outputs": [
        {
          "output_type": "stream",
          "name": "stdout",
          "text": [
            "Test set Accuracy = 0.8313213345039508\n"
          ]
        }
      ],
      "source": [
        "##Iteration3##\n",
        "from pyspark.ml.classification import LogisticRegression\n",
        "from pyspark.ml.evaluation import MulticlassClassificationEvaluator\n",
        "\n",
        "# Instantiate the model.\n",
        "lr_model = LogisticRegression(featuresCol='features',labelCol='label', maxIter=100, regParam=0, elasticNetParam=0.8)\n",
        "\n",
        "# Fit the model.\n",
        "lr_model = lr_model.fit(train_data)\n",
        "\n",
        "# And evaluate the model using the test data.\n",
        "predictions = lr_model.transform(test_data)\n",
        "\n",
        "evaluator1 = MulticlassClassificationEvaluator(labelCol=\"label\", predictionCol=\"prediction\",metricName=\"accuracy\")\n",
        "accuracy = evaluator1.evaluate(predictions)\n",
        "print(\"Test set Accuracy = \" + str(accuracy))"
      ]
    },
    {
      "cell_type": "code",
      "source": [],
      "metadata": {
        "id": "7KPQ7TYZ37aH"
      },
      "execution_count": null,
      "outputs": []
    }
  ],
  "metadata": {
    "kernelspec": {
      "display_name": "Python 3",
      "language": "python",
      "name": "python3"
    },
    "language_info": {
      "codemirror_mode": {
        "name": "ipython",
        "version": 3
      },
      "file_extension": ".py",
      "mimetype": "text/x-python",
      "name": "python",
      "nbconvert_exporter": "python",
      "pygments_lexer": "ipython3",
      "version": "3.5.2"
    },
    "colab": {
      "provenance": [],
      "include_colab_link": true
    }
  },
  "nbformat": 4,
  "nbformat_minor": 0
}